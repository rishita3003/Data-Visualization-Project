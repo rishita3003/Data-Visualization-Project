{
 "cells": [
  {
   "cell_type": "code",
   "execution_count": 1,
   "metadata": {},
   "outputs": [],
   "source": [
    "import pandas as pd\n",
    "import numpy as np\n",
    "import matplotlib.pyplot as plt\n",
    "import seaborn as sns\n",
    "import plotly.express as px\n",
    "import plotly.graph_objects as go\n",
    "from plotly.subplots import make_subplots\n",
    "from matplotlib.gridspec import GridSpec\n",
    "from matplotlib.colors import LinearSegmentedColormap\n",
    "import matplotlib.ticker as ticker"
   ]
  },
  {
   "cell_type": "code",
   "execution_count": 2,
   "metadata": {},
   "outputs": [],
   "source": [
    "# Set styling for plots\n",
    "plt.style.use('seaborn-v0_8-whitegrid')\n",
    "sns.set_palette('viridis')\n",
    "plt.rcParams['figure.figsize'] = (14, 8)\n",
    "plt.rcParams['axes.labelsize'] = 12\n",
    "plt.rcParams['axes.titlesize'] = 14\n",
    "plt.rcParams['xtick.labelsize'] = 10\n",
    "plt.rcParams['ytick.labelsize'] = 10\n",
    "\n",
    "# Custom colors for country visualization\n",
    "country_colors = {\n",
    "    \"Bangladesh\": \"#003f5c\",\n",
    "    \"United States\": \"#2f4b7c\",\n",
    "    \"United Kingdom\": \"#665191\",\n",
    "    \"Canada\": \"#a05195\",\n",
    "    \"Australia\": \"#d45087\",\n",
    "    \"Malaysia\": \"#f95d6a\",\n",
    "    \"Sri Lanka\": \"#ff7c43\",\n",
    "    \"China\": \"#ffa600\",\n",
    "    \"Germany\": \"#7F2CCB\",\n",
    "    \"France\": \"#00CC96\",\n",
    "    \"Japan\": \"#EF553B\",\n",
    "    \"Singapore\": \"#636EFA\",\n",
    "    \"Nepal\": \"#AB63FA\",\n",
    "    \"Russia\": \"#19D3F3\",\n",
    "    \"Korea\": \"#FD3216\",\n",
    "    \"Thailand\": \"#FF9DA6\"\n",
    "}"
   ]
  },
  {
   "cell_type": "code",
   "execution_count": 5,
   "metadata": {},
   "outputs": [
    {
     "data": {
      "text/html": [
       "<div>\n",
       "<style scoped>\n",
       "    .dataframe tbody tr th:only-of-type {\n",
       "        vertical-align: middle;\n",
       "    }\n",
       "\n",
       "    .dataframe tbody tr th {\n",
       "        vertical-align: top;\n",
       "    }\n",
       "\n",
       "    .dataframe thead th {\n",
       "        text-align: right;\n",
       "    }\n",
       "</style>\n",
       "<table border=\"1\" class=\"dataframe\">\n",
       "  <thead>\n",
       "    <tr style=\"text-align: right;\">\n",
       "      <th></th>\n",
       "      <th>top1_country</th>\n",
       "      <th>top1_ftas</th>\n",
       "      <th>top2_country</th>\n",
       "      <th>top2_ftas</th>\n",
       "      <th>top3_country</th>\n",
       "      <th>top3_ftas</th>\n",
       "      <th>top4_country</th>\n",
       "      <th>top4_ftas</th>\n",
       "      <th>top5_country</th>\n",
       "      <th>top5_ftas</th>\n",
       "      <th>top6_country</th>\n",
       "      <th>top6_ftas</th>\n",
       "      <th>top7_country</th>\n",
       "      <th>top7_ftas</th>\n",
       "      <th>top8_country</th>\n",
       "      <th>top8_ftas</th>\n",
       "      <th>top9_country</th>\n",
       "      <th>top9_ftas</th>\n",
       "      <th>top10_country</th>\n",
       "      <th>top10_ftas</th>\n",
       "    </tr>\n",
       "    <tr>\n",
       "      <th>year</th>\n",
       "      <th></th>\n",
       "      <th></th>\n",
       "      <th></th>\n",
       "      <th></th>\n",
       "      <th></th>\n",
       "      <th></th>\n",
       "      <th></th>\n",
       "      <th></th>\n",
       "      <th></th>\n",
       "      <th></th>\n",
       "      <th></th>\n",
       "      <th></th>\n",
       "      <th></th>\n",
       "      <th></th>\n",
       "      <th></th>\n",
       "      <th></th>\n",
       "      <th></th>\n",
       "      <th></th>\n",
       "      <th></th>\n",
       "      <th></th>\n",
       "    </tr>\n",
       "  </thead>\n",
       "  <tbody>\n",
       "    <tr>\n",
       "      <th>2014</th>\n",
       "      <td>United States</td>\n",
       "      <td>1118983</td>\n",
       "      <td>Bangladesh</td>\n",
       "      <td>942562</td>\n",
       "      <td>United Kingdom</td>\n",
       "      <td>838860</td>\n",
       "      <td>Sri Lanka</td>\n",
       "      <td>301601</td>\n",
       "      <td>Russian Fed.</td>\n",
       "      <td>269832</td>\n",
       "      <td>Canada</td>\n",
       "      <td>268485</td>\n",
       "      <td>Malaysia</td>\n",
       "      <td>262026</td>\n",
       "      <td>France</td>\n",
       "      <td>246101</td>\n",
       "      <td>Australia</td>\n",
       "      <td>239762</td>\n",
       "      <td>Germany</td>\n",
       "      <td>239106</td>\n",
       "    </tr>\n",
       "    <tr>\n",
       "      <th>2015</th>\n",
       "      <td>United States</td>\n",
       "      <td>1213624</td>\n",
       "      <td>Bangladesh</td>\n",
       "      <td>1133879</td>\n",
       "      <td>United Kingdom</td>\n",
       "      <td>867601</td>\n",
       "      <td>Sri Lanka</td>\n",
       "      <td>299513</td>\n",
       "      <td>Canada</td>\n",
       "      <td>281306</td>\n",
       "      <td>Malaysia</td>\n",
       "      <td>272941</td>\n",
       "      <td>Australia</td>\n",
       "      <td>263101</td>\n",
       "      <td>Germany</td>\n",
       "      <td>248314</td>\n",
       "      <td>France</td>\n",
       "      <td>230854</td>\n",
       "      <td>Japan</td>\n",
       "      <td>207415</td>\n",
       "    </tr>\n",
       "    <tr>\n",
       "      <th>2016</th>\n",
       "      <td>Bangladesh</td>\n",
       "      <td>1380409</td>\n",
       "      <td>United States</td>\n",
       "      <td>1296939</td>\n",
       "      <td>United Kingdom</td>\n",
       "      <td>941883</td>\n",
       "      <td>Canada</td>\n",
       "      <td>317239</td>\n",
       "      <td>Malaysia</td>\n",
       "      <td>301961</td>\n",
       "      <td>Sri Lanka</td>\n",
       "      <td>297418</td>\n",
       "      <td>Australia</td>\n",
       "      <td>293625</td>\n",
       "      <td>Germany</td>\n",
       "      <td>265928</td>\n",
       "      <td>China</td>\n",
       "      <td>251313</td>\n",
       "      <td>France</td>\n",
       "      <td>238707</td>\n",
       "    </tr>\n",
       "    <tr>\n",
       "      <th>2017</th>\n",
       "      <td>Bangladesh</td>\n",
       "      <td>2156557</td>\n",
       "      <td>United States</td>\n",
       "      <td>1376919</td>\n",
       "      <td>United Kingdom</td>\n",
       "      <td>986296</td>\n",
       "      <td>Canada</td>\n",
       "      <td>335439</td>\n",
       "      <td>Australia</td>\n",
       "      <td>324243</td>\n",
       "      <td>Malaysia</td>\n",
       "      <td>322126</td>\n",
       "      <td>Sri Lanka</td>\n",
       "      <td>303590</td>\n",
       "      <td>Russian Fed.</td>\n",
       "      <td>278904</td>\n",
       "      <td>Germany</td>\n",
       "      <td>269380</td>\n",
       "      <td>France</td>\n",
       "      <td>249620</td>\n",
       "    </tr>\n",
       "    <tr>\n",
       "      <th>2018</th>\n",
       "      <td>Bangladesh</td>\n",
       "      <td>2256675</td>\n",
       "      <td>United States</td>\n",
       "      <td>1456678</td>\n",
       "      <td>United Kingdom</td>\n",
       "      <td>1029758</td>\n",
       "      <td>Sri Lanka</td>\n",
       "      <td>353684</td>\n",
       "      <td>Canada</td>\n",
       "      <td>351040</td>\n",
       "      <td>Australia</td>\n",
       "      <td>346486</td>\n",
       "      <td>Malaysia</td>\n",
       "      <td>319172</td>\n",
       "      <td>China</td>\n",
       "      <td>281768</td>\n",
       "      <td>Germany</td>\n",
       "      <td>274087</td>\n",
       "      <td>Russian Fed.</td>\n",
       "      <td>262309</td>\n",
       "    </tr>\n",
       "    <tr>\n",
       "      <th>2019</th>\n",
       "      <td>Bangladesh</td>\n",
       "      <td>2577727</td>\n",
       "      <td>United States</td>\n",
       "      <td>1512032</td>\n",
       "      <td>United Kingdom</td>\n",
       "      <td>1000292</td>\n",
       "      <td>Australia</td>\n",
       "      <td>367241</td>\n",
       "      <td>Canada</td>\n",
       "      <td>351859</td>\n",
       "      <td>China</td>\n",
       "      <td>339442</td>\n",
       "      <td>Malaysia</td>\n",
       "      <td>334579</td>\n",
       "      <td>Sri Lanka</td>\n",
       "      <td>330861</td>\n",
       "      <td>Germany</td>\n",
       "      <td>264973</td>\n",
       "      <td>Russian Fed.</td>\n",
       "      <td>251319</td>\n",
       "    </tr>\n",
       "    <tr>\n",
       "      <th>2020</th>\n",
       "      <td>Bangladesh</td>\n",
       "      <td>549273</td>\n",
       "      <td>United States</td>\n",
       "      <td>394092</td>\n",
       "      <td>United Kingdom</td>\n",
       "      <td>291874</td>\n",
       "      <td>Canada</td>\n",
       "      <td>122868</td>\n",
       "      <td>Russian Fed.</td>\n",
       "      <td>102166</td>\n",
       "      <td>Australia</td>\n",
       "      <td>86758</td>\n",
       "      <td>France</td>\n",
       "      <td>74243</td>\n",
       "      <td>Germany</td>\n",
       "      <td>72558</td>\n",
       "      <td>Malaysia</td>\n",
       "      <td>69897</td>\n",
       "      <td>Sri Lanka</td>\n",
       "      <td>68646</td>\n",
       "    </tr>\n",
       "  </tbody>\n",
       "</table>\n",
       "</div>"
      ],
      "text/plain": [
       "       top1_country  top1_ftas   top2_country  top2_ftas    top3_country  \\\n",
       "year                                                                       \n",
       "2014  United States    1118983     Bangladesh     942562  United Kingdom   \n",
       "2015  United States    1213624     Bangladesh    1133879  United Kingdom   \n",
       "2016     Bangladesh    1380409  United States    1296939  United Kingdom   \n",
       "2017     Bangladesh    2156557  United States    1376919  United Kingdom   \n",
       "2018     Bangladesh    2256675  United States    1456678  United Kingdom   \n",
       "2019     Bangladesh    2577727  United States    1512032  United Kingdom   \n",
       "2020     Bangladesh     549273  United States     394092  United Kingdom   \n",
       "\n",
       "      top3_ftas top4_country  top4_ftas  top5_country  top5_ftas top6_country  \\\n",
       "year                                                                            \n",
       "2014     838860    Sri Lanka     301601  Russian Fed.     269832       Canada   \n",
       "2015     867601    Sri Lanka     299513        Canada     281306     Malaysia   \n",
       "2016     941883       Canada     317239      Malaysia     301961    Sri Lanka   \n",
       "2017     986296       Canada     335439     Australia     324243     Malaysia   \n",
       "2018    1029758    Sri Lanka     353684        Canada     351040    Australia   \n",
       "2019    1000292    Australia     367241        Canada     351859        China   \n",
       "2020     291874       Canada     122868  Russian Fed.     102166    Australia   \n",
       "\n",
       "      top6_ftas top7_country  top7_ftas  top8_country  top8_ftas top9_country  \\\n",
       "year                                                                            \n",
       "2014     268485     Malaysia     262026        France     246101    Australia   \n",
       "2015     272941    Australia     263101       Germany     248314       France   \n",
       "2016     297418    Australia     293625       Germany     265928        China   \n",
       "2017     322126    Sri Lanka     303590  Russian Fed.     278904      Germany   \n",
       "2018     346486     Malaysia     319172         China     281768      Germany   \n",
       "2019     339442     Malaysia     334579     Sri Lanka     330861      Germany   \n",
       "2020      86758       France      74243       Germany      72558     Malaysia   \n",
       "\n",
       "      top9_ftas top10_country  top10_ftas  \n",
       "year                                       \n",
       "2014     239762       Germany      239106  \n",
       "2015     230854         Japan      207415  \n",
       "2016     251313        France      238707  \n",
       "2017     269380        France      249620  \n",
       "2018     274087  Russian Fed.      262309  \n",
       "2019     264973  Russian Fed.      251319  \n",
       "2020      69897     Sri Lanka       68646  "
      ]
     },
     "execution_count": 5,
     "metadata": {},
     "output_type": "execute_result"
    }
   ],
   "source": [
    "filepath = \"Top 10 Country FFA.csv\"\n",
    "df = pd.read_csv(filepath)\n",
    "df.set_index('year', inplace=True)\n",
    "df"
   ]
  },
  {
   "cell_type": "code",
   "execution_count": 6,
   "metadata": {},
   "outputs": [
    {
     "data": {
      "text/html": [
       "<div>\n",
       "<style scoped>\n",
       "    .dataframe tbody tr th:only-of-type {\n",
       "        vertical-align: middle;\n",
       "    }\n",
       "\n",
       "    .dataframe tbody tr th {\n",
       "        vertical-align: top;\n",
       "    }\n",
       "\n",
       "    .dataframe thead th {\n",
       "        text-align: right;\n",
       "    }\n",
       "</style>\n",
       "<table border=\"1\" class=\"dataframe\">\n",
       "  <thead>\n",
       "    <tr style=\"text-align: right;\">\n",
       "      <th></th>\n",
       "      <th>year</th>\n",
       "      <th>rank</th>\n",
       "      <th>country</th>\n",
       "      <th>ftas</th>\n",
       "    </tr>\n",
       "  </thead>\n",
       "  <tbody>\n",
       "    <tr>\n",
       "      <th>0</th>\n",
       "      <td>2014</td>\n",
       "      <td>1</td>\n",
       "      <td>United States</td>\n",
       "      <td>1118983</td>\n",
       "    </tr>\n",
       "    <tr>\n",
       "      <th>1</th>\n",
       "      <td>2014</td>\n",
       "      <td>2</td>\n",
       "      <td>Bangladesh</td>\n",
       "      <td>942562</td>\n",
       "    </tr>\n",
       "    <tr>\n",
       "      <th>2</th>\n",
       "      <td>2014</td>\n",
       "      <td>3</td>\n",
       "      <td>United Kingdom</td>\n",
       "      <td>838860</td>\n",
       "    </tr>\n",
       "    <tr>\n",
       "      <th>3</th>\n",
       "      <td>2014</td>\n",
       "      <td>4</td>\n",
       "      <td>Sri Lanka</td>\n",
       "      <td>301601</td>\n",
       "    </tr>\n",
       "    <tr>\n",
       "      <th>4</th>\n",
       "      <td>2014</td>\n",
       "      <td>5</td>\n",
       "      <td>Russian Fed.</td>\n",
       "      <td>269832</td>\n",
       "    </tr>\n",
       "    <tr>\n",
       "      <th>...</th>\n",
       "      <td>...</td>\n",
       "      <td>...</td>\n",
       "      <td>...</td>\n",
       "      <td>...</td>\n",
       "    </tr>\n",
       "    <tr>\n",
       "      <th>65</th>\n",
       "      <td>2020</td>\n",
       "      <td>6</td>\n",
       "      <td>Australia</td>\n",
       "      <td>86758</td>\n",
       "    </tr>\n",
       "    <tr>\n",
       "      <th>66</th>\n",
       "      <td>2020</td>\n",
       "      <td>7</td>\n",
       "      <td>France</td>\n",
       "      <td>74243</td>\n",
       "    </tr>\n",
       "    <tr>\n",
       "      <th>67</th>\n",
       "      <td>2020</td>\n",
       "      <td>8</td>\n",
       "      <td>Germany</td>\n",
       "      <td>72558</td>\n",
       "    </tr>\n",
       "    <tr>\n",
       "      <th>68</th>\n",
       "      <td>2020</td>\n",
       "      <td>9</td>\n",
       "      <td>Malaysia</td>\n",
       "      <td>69897</td>\n",
       "    </tr>\n",
       "    <tr>\n",
       "      <th>69</th>\n",
       "      <td>2020</td>\n",
       "      <td>10</td>\n",
       "      <td>Sri Lanka</td>\n",
       "      <td>68646</td>\n",
       "    </tr>\n",
       "  </tbody>\n",
       "</table>\n",
       "<p>70 rows × 4 columns</p>\n",
       "</div>"
      ],
      "text/plain": [
       "    year  rank         country     ftas\n",
       "0   2014     1   United States  1118983\n",
       "1   2014     2      Bangladesh   942562\n",
       "2   2014     3  United Kingdom   838860\n",
       "3   2014     4       Sri Lanka   301601\n",
       "4   2014     5    Russian Fed.   269832\n",
       "..   ...   ...             ...      ...\n",
       "65  2020     6       Australia    86758\n",
       "66  2020     7          France    74243\n",
       "67  2020     8         Germany    72558\n",
       "68  2020     9        Malaysia    69897\n",
       "69  2020    10       Sri Lanka    68646\n",
       "\n",
       "[70 rows x 4 columns]"
      ]
     },
     "execution_count": 6,
     "metadata": {},
     "output_type": "execute_result"
    }
   ],
   "source": [
    "data_list = []\n",
    "\n",
    "# Iterate through each year\n",
    "for year in df.index:\n",
    "    # Iterate through each country rank\n",
    "    for i in range(1, 11):\n",
    "        country = df.loc[year, f'top{i}_country']\n",
    "        ftas = df.loc[year, f'top{i}_ftas']\n",
    "        \n",
    "        # Add to data list\n",
    "        data_list.append({\n",
    "            'year': year,\n",
    "            'rank': i,\n",
    "            'country': country,\n",
    "            'ftas': ftas\n",
    "        })\n",
    "\n",
    "# Create a new DataFrame from the list\n",
    "df_long = pd.DataFrame(data_list)\n",
    "df_long"
   ]
  },
  {
   "cell_type": "code",
   "execution_count": 8,
   "metadata": {},
   "outputs": [
    {
     "data": {
      "text/plain": [
       "<Figure size 1600x1000 with 0 Axes>"
      ]
     },
     "metadata": {},
     "output_type": "display_data"
    },
    {
     "data": {
      "image/png": "[encoded data removed]",
      "text/plain": [
       "<Figure size 1600x1000 with 1 Axes>"
      ]
     },
     "metadata": {},
     "output_type": "display_data"
    }
   ],
   "source": [
    "plt.figure(figsize=(16, 10))\n",
    "\n",
    "# Pivot the long-form data to get countries as columns\n",
    "pivot_df = df_long.pivot_table(index='year', columns='country', values='ftas', aggfunc='sum')\n",
    "\n",
    "# Get the relevant colors for each country\n",
    "colors = [country_colors.get(country, \"#808080\") for country in pivot_df.columns]\n",
    "\n",
    "# Plot stacked bar chart\n",
    "pivot_df.plot(kind='bar', stacked=True, figsize=(16, 10), color=colors)\n",
    "\n",
    "plt.title('Foreign Tourist Arrivals to India by Country (2014-2020)', fontsize=18)\n",
    "plt.xlabel('Year', fontsize=14)\n",
    "plt.ylabel('Number of Tourists', fontsize=14)\n",
    "plt.legend(title='Country', bbox_to_anchor=(1.05, 1), loc='upper left', fontsize=12)\n",
    "plt.xticks(rotation=0)\n",
    "plt.grid(axis='y', alpha=0.3)\n",
    "\n",
    "# Format y-axis to show values in thousands\n",
    "plt.gca().yaxis.set_major_formatter(ticker.FuncFormatter(lambda x, pos: f'{x/1000:.0f}K'))\n",
    "\n",
    "# Add a text annotation with the total for each year\n",
    "for i, year in enumerate(pivot_df.index):\n",
    "    total = pivot_df.loc[year].sum()\n",
    "    plt.text(i, total + 50000, f'Total: {total:,.0f}', \n",
    "            ha='center', va='bottom', fontsize=12, fontweight='bold')\n",
    "\n",
    "plt.tight_layout()\n",
    "plt.savefig('top10_countries_stacked_bar.png', dpi=300)\n",
    "plt.show()"
   ]
  },
  {
   "cell_type": "code",
   "execution_count": 10,
   "metadata": {},
   "outputs": [
    {
     "name": "stdout",
     "output_type": "stream",
     "text": [
      "\n",
      "Total unique countries that appeared in the top 10: 12\n",
      "Unique countries: ['Australia', 'Bangladesh', 'Canada', 'China', 'France', 'Germany', 'Japan', 'Malaysia', 'Russian Fed.', 'Sri Lanka', 'United Kingdom', 'United States']\n",
      "\n",
      "2. Countries that consistently appeared in the top 10 across all years (8):\n",
      "['Australia', 'Bangladesh', 'Canada', 'Germany', 'Malaysia', 'Sri Lanka', 'United Kingdom', 'United States']\n",
      "\n",
      "3. Total FTAs from top 10 countries by year:\n",
      "2014: 4,727,318 tourists\n",
      "2015: 5,018,548 tourists\n",
      "2016: 5,585,422 tourists\n",
      "2017: 6,603,074 tourists\n",
      "2018: 6,931,657 tourists\n",
      "2019: 7,330,325 tourists\n",
      "2020: 1,832,375 tourists\n"
     ]
    }
   ],
   "source": [
    "all_countries = []\n",
    "for i in range(1, 11):\n",
    "    all_countries.extend(df[f'top{i}_country'].unique())\n",
    "\n",
    "unique_countries = sorted(list(set(all_countries)))\n",
    "print(f\"\\nTotal unique countries that appeared in the top 10: {len(unique_countries)}\")\n",
    "print(f\"Unique countries: {unique_countries}\")\n",
    "\n",
    "# Find countries that consistently appeared in the top 10 across all years\n",
    "consistent_countries = []\n",
    "for country in unique_countries:\n",
    "    # Check if the country appears in at least one rank for all years\n",
    "    if all(country in df.loc[year].values for year in df.index):\n",
    "        consistent_countries.append(country)\n",
    "\n",
    "print(f\"\\n2. Countries that consistently appeared in the top 10 across all years ({len(consistent_countries)}):\")\n",
    "print(consistent_countries)\n",
    "\n",
    "# Calculate total FTAs for each year from the top 10 countries\n",
    "yearly_totals = {}\n",
    "for year in df.index:\n",
    "    yearly_totals[year] = sum(df.loc[year, f'top{i}_ftas'] for i in range(1, 11))\n",
    "\n",
    "print(\"\\n3. Total FTAs from top 10 countries by year:\")\n",
    "for year, total in yearly_totals.items():\n",
    "    print(f\"{year}: {total:,} tourists\")"
   ]
  },
  {
   "cell_type": "code",
   "execution_count": 11,
   "metadata": {},
   "outputs": [],
   "source": [
    "analysis_results = {\n",
    "    'unique_countries': unique_countries,\n",
    "    'consistent_countries': consistent_countries,\n",
    "    'yearly_totals': yearly_totals\n",
    "}"
   ]
  },
  {
   "cell_type": "code",
   "execution_count": 12,
   "metadata": {},
   "outputs": [
    {
     "data": {
      "image/png": "[encoded data removed]",
      "text/plain": [
       "<Figure size 1600x1000 with 1 Axes>"
      ]
     },
     "metadata": {},
     "output_type": "display_data"
    }
   ],
   "source": [
    "plt.figure(figsize=(16, 10))\n",
    "\n",
    "# Get top 5 consistent countries\n",
    "top_countries = analysis_results['consistent_countries'][:5]\n",
    "\n",
    "# Create a filtered dataframe with only these countries\n",
    "filtered_df = df_long[df_long['country'].isin(top_countries)]\n",
    "\n",
    "# Pivot to get one line per country\n",
    "trend_df = filtered_df.pivot_table(index='year', columns='country', values='ftas', aggfunc='sum')\n",
    "\n",
    "# Plot each country\n",
    "for country in top_countries:\n",
    "    if country in trend_df.columns:\n",
    "        plt.plot(trend_df.index, trend_df[country], marker='o', linewidth=3, \n",
    "                    label=country, color=country_colors.get(country, \"#808080\"))\n",
    "\n",
    "plt.title('Trend of Foreign Tourist Arrivals from Top 5 Countries (2014-2020)', fontsize=18)\n",
    "plt.xlabel('Year', fontsize=14)\n",
    "plt.ylabel('Number of Tourists', fontsize=14)\n",
    "plt.legend(fontsize=12)\n",
    "plt.grid(True, alpha=0.3)\n",
    "\n",
    "# Format y-axis to show values in thousands\n",
    "plt.gca().yaxis.set_major_formatter(ticker.FuncFormatter(lambda x, pos: f'{x/1000:.0f}K'))\n",
    "\n",
    "# Add a vertical line to mark pre-COVID and COVID periods if 2020 is in the data\n",
    "if 2020 in trend_df.index:\n",
    "    plt.axvline(x=2019.5, color='r', linestyle='--', alpha=0.7, label='COVID-19 Impact')\n",
    "    \n",
    "    # Annotate the COVID drop\n",
    "    for country in top_countries:\n",
    "        if country in trend_df.columns and 2019 in trend_df.index and 2020 in trend_df.index:\n",
    "            pct_change = ((trend_df.loc[2020, country] / trend_df.loc[2019, country]) - 1) * 100\n",
    "            plt.annotate(f'{pct_change:.1f}%', \n",
    "                        xy=(2020, trend_df.loc[2020, country]), \n",
    "                        xytext=(2020.1, trend_df.loc[2020, country]),\n",
    "                        fontsize=10, ha='left', va='center',\n",
    "                        color=country_colors.get(country, \"#808080\"))\n",
    "\n",
    "plt.tight_layout()\n",
    "plt.savefig('top5_countries_trend.png', dpi=300)\n",
    "plt.show()"
   ]
  },
  {
   "cell_type": "code",
   "execution_count": 13,
   "metadata": {},
   "outputs": [
    {
     "data": {
      "text/plain": [
       "<Figure size 1600x1200 with 0 Axes>"
      ]
     },
     "metadata": {},
     "output_type": "display_data"
    },
    {
     "data": {
      "image/png": "[encoded data removed]",
      "text/plain": [
       "<Figure size 1600x1200 with 1 Axes>"
      ]
     },
     "metadata": {},
     "output_type": "display_data"
    }
   ],
   "source": [
    "plt.figure(figsize=(16, 12))\n",
    "\n",
    "# Select countries for analysis (use consistent countries)\n",
    "selected_countries = analysis_results['consistent_countries'][:8]  # Top 8 consistent countries\n",
    "\n",
    "# Create position for each year and country\n",
    "num_countries = len(selected_countries)\n",
    "num_years = len(df.index)\n",
    "\n",
    "# Define the width of each bar and the spacing\n",
    "bar_width = 0.8\n",
    "\n",
    "# Set up the plot\n",
    "fig, ax = plt.subplots(figsize=(16, 12))\n",
    "\n",
    "# Initialize a dictionary to store the rank data for each country\n",
    "country_ranks = {country: [] for country in selected_countries}\n",
    "\n",
    "# Get rank data for each country by year\n",
    "for year in sorted(df.index):\n",
    "    for country in selected_countries:\n",
    "        # Find which rank this country had in this year\n",
    "        rank = None\n",
    "        for i in range(1, 11):\n",
    "            if df.loc[year, f'top{i}_country'] == country:\n",
    "                rank = i\n",
    "                break\n",
    "        \n",
    "        if rank is not None:\n",
    "            country_ranks[country].append((year, rank))\n",
    "\n",
    "# Plot data for each country\n",
    "for i, country in enumerate(selected_countries):\n",
    "    # Extract years and ranks\n",
    "    years = [item[0] for item in country_ranks[country]]\n",
    "    ranks = [item[1] for item in country_ranks[country]]\n",
    "    \n",
    "    # Plot the ranks\n",
    "    ax.plot(years, ranks, marker='o', linewidth=2, label=country, \n",
    "            color=country_colors.get(country, \"#808080\"), markersize=10)\n",
    "    \n",
    "    # Add the country name next to the last point\n",
    "    last_year = years[-1]\n",
    "    last_rank = ranks[-1]\n",
    "    ax.text(last_year + 0.1, last_rank, country, fontsize=12, \n",
    "            color=country_colors.get(country, \"#808080\"), va='center')\n",
    "\n",
    "# Invert y-axis so that rank 1 is at the top\n",
    "ax.invert_yaxis()\n",
    "\n",
    "# Set the axis limits\n",
    "ax.set_xlim(min(df.index) - 0.5, max(df.index) + 0.5)\n",
    "ax.set_ylim(10.5, 0.5)  # Ranks go from 1 to 10\n",
    "\n",
    "# Set the grid\n",
    "ax.grid(True, alpha=0.3)\n",
    "\n",
    "# Set the title and labels\n",
    "ax.set_title('Ranking Changes of Top Countries for Foreign Tourist Arrivals (2014-2020)', fontsize=18)\n",
    "ax.set_xlabel('Year', fontsize=14)\n",
    "ax.set_ylabel('Rank', fontsize=14)\n",
    "\n",
    "# Set the y-tick labels\n",
    "ax.set_yticks(range(1, 11))\n",
    "ax.set_yticklabels([f'#{i}' for i in range(1, 11)])\n",
    "\n",
    "# Set the x-tick labels\n",
    "ax.set_xticks(sorted(df.index))\n",
    "\n",
    "plt.tight_layout()\n",
    "plt.savefig('country_ranking_changes.png', dpi=300)\n",
    "plt.show()"
   ]
  },
  {
   "cell_type": "code",
   "execution_count": 14,
   "metadata": {},
   "outputs": [
    {
     "data": {
      "image/png": "[encoded data removed]",
      "text/plain": [
       "<Figure size 1800x900 with 2 Axes>"
      ]
     },
     "metadata": {},
     "output_type": "display_data"
    }
   ],
   "source": [
    "# 4. Pie charts showing the distribution of tourists by country for first and last year\n",
    "fig, (ax1, ax2) = plt.subplots(1, 2, figsize=(18, 9))\n",
    "\n",
    "# Get the first and last years\n",
    "first_year = min(df.index)\n",
    "last_year = max(df.index)\n",
    "\n",
    "# Create data for the first year\n",
    "first_year_data = [(df.loc[first_year, f'top{i}_country'], df.loc[first_year, f'top{i}_ftas']) \n",
    "                    for i in range(1, 11)]\n",
    "\n",
    "# Sort by number of tourists (descending)\n",
    "first_year_data.sort(key=lambda x: x[1], reverse=True)\n",
    "\n",
    "# Extract countries and FTAs\n",
    "first_year_countries = [item[0] for item in first_year_data]\n",
    "first_year_ftas = [item[1] for item in first_year_data]\n",
    "\n",
    "# Create a pie chart for the first year\n",
    "ax1.pie(first_year_ftas, labels=first_year_countries, autopct='%1.1f%%', startangle=90,\n",
    "        colors=[country_colors.get(country, \"#808080\") for country in first_year_countries])\n",
    "ax1.set_title(f'Distribution of Foreign Tourist Arrivals ({first_year})', fontsize=16)\n",
    "\n",
    "# Create data for the last year\n",
    "last_year_data = [(df.loc[last_year, f'top{i}_country'], df.loc[last_year, f'top{i}_ftas']) \n",
    "                    for i in range(1, 11)]\n",
    "\n",
    "# Sort by number of tourists (descending)\n",
    "last_year_data.sort(key=lambda x: x[1], reverse=True)\n",
    "\n",
    "# Extract countries and FTAs\n",
    "last_year_countries = [item[0] for item in last_year_data]\n",
    "last_year_ftas = [item[1] for item in last_year_data]\n",
    "\n",
    "# Create a pie chart for the last year\n",
    "ax2.pie(last_year_ftas, labels=last_year_countries, autopct='%1.1f%%', startangle=90,\n",
    "        colors=[country_colors.get(country, \"#808080\") for country in last_year_countries])\n",
    "ax2.set_title(f'Distribution of Foreign Tourist Arrivals ({last_year})', fontsize=16)\n",
    "\n",
    "plt.suptitle('Comparison of Tourist Distribution by Country', fontsize=20, y=0.98)\n",
    "plt.tight_layout()\n",
    "plt.savefig('tourist_distribution_pie_charts.png', dpi=300)\n",
    "plt.show()"
   ]
  },
  {
   "cell_type": "code",
   "execution_count": 15,
   "metadata": {},
   "outputs": [
    {
     "name": "stderr",
     "output_type": "stream",
     "text": [
      "C:\\Users\\himan\\AppData\\Local\\Temp\\ipykernel_11956\\3666041599.py:18: FutureWarning: Downcasting object dtype arrays on .fillna, .ffill, .bfill is deprecated and will change in a future version. Call result.infer_objects(copy=False) instead. To opt-in to the future behavior, set `pd.set_option('future.no_silent_downcasting', True)`\n",
      "  heatmap_data = heatmap_data.fillna(15)\n"
     ]
    },
    {
     "data": {
      "image/png": "[encoded data removed]",
      "text/plain": [
       "<Figure size 1600x1200 with 2 Axes>"
      ]
     },
     "metadata": {},
     "output_type": "display_data"
    }
   ],
   "source": [
    "# 5. Heatmap showing the ranking of each country across years\n",
    "plt.figure(figsize=(16, 12))\n",
    "\n",
    "# Get the unique countries that appeared in at least one top 10\n",
    "unique_countries = analysis_results['unique_countries']\n",
    "\n",
    "# Create a dataframe to store the rankings\n",
    "heatmap_data = pd.DataFrame(index=sorted(df.index), columns=unique_countries)\n",
    "\n",
    "# Fill in the rankings\n",
    "for year in sorted(df.index):\n",
    "    for i in range(1, 11):\n",
    "        country = df.loc[year, f'top{i}_country']\n",
    "        if country in unique_countries:\n",
    "            heatmap_data.loc[year, country] = i\n",
    "\n",
    "# Fill NaN values with a value outside our rank range (higher than 10)\n",
    "heatmap_data = heatmap_data.fillna(15)\n",
    "\n",
    "# Define a custom colormap - dark colors for high ranks (1-3), lighter for lower ranks\n",
    "colors = ['#1a237e', '#283593', '#3949ab', '#5c6bc0', '#7986cb', \n",
    "            '#9fa8da', '#c5cae9', '#e8eaf6', '#ffffff', '#ffffff']\n",
    "cmap = LinearSegmentedColormap.from_list('custom_map', colors, N=20)\n",
    "\n",
    "# Create the heatmap\n",
    "sns.heatmap(heatmap_data, cmap=cmap, linewidths=1, linecolor='white',\n",
    "            mask=heatmap_data > 10,  # Mask values > 10 (not in top 10)\n",
    "            annot=True, fmt='.0f', vmin=1, vmax=10)\n",
    "\n",
    "plt.title('Ranking of Countries for Foreign Tourist Arrivals (2014-2020)', fontsize=18)\n",
    "plt.xlabel('Country', fontsize=14)\n",
    "plt.ylabel('Year', fontsize=14)\n",
    "\n",
    "# Rotate x-axis labels for better readability\n",
    "plt.xticks(rotation=45, ha='right')\n",
    "\n",
    "# Add a color bar legend\n",
    "cbar = plt.gcf().axes[-1]\n",
    "cbar.set_title('Rank', fontsize=12)\n",
    "\n",
    "plt.tight_layout()\n",
    "plt.savefig('country_ranking_heatmap.png', dpi=300)\n",
    "plt.show()"
   ]
  },
  {
   "cell_type": "code",
   "execution_count": 16,
   "metadata": {},
   "outputs": [
    {
     "data": {
      "application/vnd.plotly.v1+json": {
       "config": {
        "plotlyServerURL": "https://plot.ly"
       },
       "data": [
        {
         "marker": {
          "color": "#d45087"
         },
         "name": "Australia",
         "type": "bar",
         "x": [
          2014,
          2015,
          2016,
          2017,
          2018,
          2019,
          2020
         ],
         "y": [
          239762,
          263101,
          293625,
          324243,
          346486,
          367241,
          86758
         ]
        },
        {
         "marker": {
          "color": "#003f5c"
         },
         "name": "Bangladesh",
         "type": "bar",
         "x": [
          2014,
          2015,
          2016,
          2017,
          2018,
          2019,
          2020
         ],
         "y": [
          942562,
          1133879,
          1380409,
          2156557,
          2256675,
          2577727,
          549273
         ]
        },
        {
         "marker": {
          "color": "#a05195"
         },
         "name": "Canada",
         "type": "bar",
         "x": [
          2014,
          2015,
          2016,
          2017,
          2018,
          2019,
          2020
         ],
         "y": [
          268485,
          281306,
          317239,
          335439,
          351040,
          351859,
          122868
         ]
        },
        {
         "marker": {
          "color": "#ffa600"
         },
         "name": "China",
         "type": "bar",
         "x": [
          2014,
          2015,
          2016,
          2017,
          2018,
          2019,
          2020
         ],
         "y": [
          null,
          null,
          251313,
          null,
          281768,
          339442,
          null
         ]
        },
        {
         "marker": {
          "color": "#00CC96"
         },
         "name": "France",
         "type": "bar",
         "x": [
          2014,
          2015,
          2016,
          2017,
          2018,
          2019,
          2020
         ],
         "y": [
          246101,
          230854,
          238707,
          249620,
          null,
          null,
          74243
         ]
        },
        {
         "marker": {
          "color": "#7F2CCB"
         },
         "name": "Germany",
         "type": "bar",
         "x": [
          2014,
          2015,
          2016,
          2017,
          2018,
          2019,
          2020
         ],
         "y": [
          239106,
          248314,
          265928,
          269380,
          274087,
          264973,
          72558
         ]
        },
        {
         "marker": {
          "color": "#EF553B"
         },
         "name": "Japan",
         "type": "bar",
         "x": [
          2014,
          2015,
          2016,
          2017,
          2018,
          2019,
          2020
         ],
         "y": [
          null,
          207415,
          null,
          null,
          null,
          null,
          null
         ]
        },
        {
         "marker": {
          "color": "#f95d6a"
         },
         "name": "Malaysia",
         "type": "bar",
         "x": [
          2014,
          2015,
          2016,
          2017,
          2018,
          2019,
          2020
         ],
         "y": [
          262026,
          272941,
          301961,
          322126,
          319172,
          334579,
          69897
         ]
        },
        {
         "marker": {
          "color": "#808080"
         },
         "name": "Russian Fed.",
         "type": "bar",
         "x": [
          2014,
          2015,
          2016,
          2017,
          2018,
          2019,
          2020
         ],
         "y": [
          269832,
          null,
          null,
          278904,
          262309,
          251319,
          102166
         ]
        },
        {
         "marker": {
          "color": "#ff7c43"
         },
         "name": "Sri Lanka",
         "type": "bar",
         "x": [
          2014,
          2015,
          2016,
          2017,
          2018,
          2019,
          2020
         ],
         "y": [
          301601,
          299513,
          297418,
          303590,
          353684,
          330861,
          68646
         ]
        },
        {
         "marker": {
          "color": "#665191"
         },
         "name": "United Kingdom",
         "type": "bar",
         "x": [
          2014,
          2015,
          2016,
          2017,
          2018,
          2019,
          2020
         ],
         "y": [
          838860,
          867601,
          941883,
          986296,
          1029758,
          1000292,
          291874
         ]
        },
        {
         "marker": {
          "color": "#2f4b7c"
         },
         "name": "United States",
         "type": "bar",
         "x": [
          2014,
          2015,
          2016,
          2017,
          2018,
          2019,
          2020
         ],
         "y": [
          1118983,
          1213624,
          1296939,
          1376919,
          1456678,
          1512032,
          394092
         ]
        }
       ],
       "layout": {
        "barmode": "stack",
        "hovermode": "x unified",
        "legend": {
         "title": {
          "text": "Country"
         }
        },
        "template": {
         "data": {
          "bar": [
           {
            "error_x": {
             "color": "#2a3f5f"
            },
            "error_y": {
             "color": "#2a3f5f"
            },
            "marker": {
             "line": {
              "color": "#E5ECF6",
              "width": 0.5
             },
             "pattern": {
              "fillmode": "overlay",
              "size": 10,
              "solidity": 0.2
             }
            },
            "type": "bar"
           }
          ],
          "barpolar": [
           {
            "marker": {
             "line": {
              "color": "#E5ECF6",
              "width": 0.5
             },
             "pattern": {
              "fillmode": "overlay",
              "size": 10,
              "solidity": 0.2
             }
            },
            "type": "barpolar"
           }
          ],
          "carpet": [
           {
            "aaxis": {
             "endlinecolor": "#2a3f5f",
             "gridcolor": "white",
             "linecolor": "white",
             "minorgridcolor": "white",
             "startlinecolor": "#2a3f5f"
            },
            "baxis": {
             "endlinecolor": "#2a3f5f",
             "gridcolor": "white",
             "linecolor": "white",
             "minorgridcolor": "white",
             "startlinecolor": "#2a3f5f"
            },
            "type": "carpet"
           }
          ],
          "choropleth": [
           {
            "colorbar": {
             "outlinewidth": 0,
             "ticks": ""
            },
            "type": "choropleth"
           }
          ],
          "contour": [
           {
            "colorbar": {
             "outlinewidth": 0,
             "ticks": ""
            },
            "colorscale": [
             [
              0,
              "#0d0887"
             ],
             [
              0.1111111111111111,
              "#46039f"
             ],
             [
              0.2222222222222222,
              "#7201a8"
             ],
             [
              0.3333333333333333,
              "#9c179e"
             ],
             [
              0.4444444444444444,
              "#bd3786"
             ],
             [
              0.5555555555555556,
              "#d8576b"
             ],
             [
              0.6666666666666666,
              "#ed7953"
             ],
             [
              0.7777777777777778,
              "#fb9f3a"
             ],
             [
              0.8888888888888888,
              "#fdca26"
             ],
             [
              1,
              "#f0f921"
             ]
            ],
            "type": "contour"
           }
          ],
          "contourcarpet": [
           {
            "colorbar": {
             "outlinewidth": 0,
             "ticks": ""
            },
            "type": "contourcarpet"
           }
          ],
          "heatmap": [
           {
            "colorbar": {
             "outlinewidth": 0,
             "ticks": ""
            },
            "colorscale": [
             [
              0,
              "#0d0887"
             ],
             [
              0.1111111111111111,
              "#46039f"
             ],
             [
              0.2222222222222222,
              "#7201a8"
             ],
             [
              0.3333333333333333,
              "#9c179e"
             ],
             [
              0.4444444444444444,
              "#bd3786"
             ],
             [
              0.5555555555555556,
              "#d8576b"
             ],
             [
              0.6666666666666666,
              "#ed7953"
             ],
             [
              0.7777777777777778,
              "#fb9f3a"
             ],
             [
              0.8888888888888888,
              "#fdca26"
             ],
             [
              1,
              "#f0f921"
             ]
            ],
            "type": "heatmap"
           }
          ],
          "heatmapgl": [
           {
            "colorbar": {
             "outlinewidth": 0,
             "ticks": ""
            },
            "colorscale": [
             [
              0,
              "#0d0887"
             ],
             [
              0.1111111111111111,
              "#46039f"
             ],
             [
              0.2222222222222222,
              "#7201a8"
             ],
             [
              0.3333333333333333,
              "#9c179e"
             ],
             [
              0.4444444444444444,
              "#bd3786"
             ],
             [
              0.5555555555555556,
              "#d8576b"
             ],
             [
              0.6666666666666666,
              "#ed7953"
             ],
             [
              0.7777777777777778,
              "#fb9f3a"
             ],
             [
              0.8888888888888888,
              "#fdca26"
             ],
             [
              1,
              "#f0f921"
             ]
            ],
            "type": "heatmapgl"
           }
          ],
          "histogram": [
           {
            "marker": {
             "pattern": {
              "fillmode": "overlay",
              "size": 10,
              "solidity": 0.2
             }
            },
            "type": "histogram"
           }
          ],
          "histogram2d": [
           {
            "colorbar": {
             "outlinewidth": 0,
             "ticks": ""
            },
            "colorscale": [
             [
              0,
              "#0d0887"
             ],
             [
              0.1111111111111111,
              "#46039f"
             ],
             [
              0.2222222222222222,
              "#7201a8"
             ],
             [
              0.3333333333333333,
              "#9c179e"
             ],
             [
              0.4444444444444444,
              "#bd3786"
             ],
             [
              0.5555555555555556,
              "#d8576b"
             ],
             [
              0.6666666666666666,
              "#ed7953"
             ],
             [
              0.7777777777777778,
              "#fb9f3a"
             ],
             [
              0.8888888888888888,
              "#fdca26"
             ],
             [
              1,
              "#f0f921"
             ]
            ],
            "type": "histogram2d"
           }
          ],
          "histogram2dcontour": [
           {
            "colorbar": {
             "outlinewidth": 0,
             "ticks": ""
            },
            "colorscale": [
             [
              0,
              "#0d0887"
             ],
             [
              0.1111111111111111,
              "#46039f"
             ],
             [
              0.2222222222222222,
              "#7201a8"
             ],
             [
              0.3333333333333333,
              "#9c179e"
             ],
             [
              0.4444444444444444,
              "#bd3786"
             ],
             [
              0.5555555555555556,
              "#d8576b"
             ],
             [
              0.6666666666666666,
              "#ed7953"
             ],
             [
              0.7777777777777778,
              "#fb9f3a"
             ],
             [
              0.8888888888888888,
              "#fdca26"
             ],
             [
              1,
              "#f0f921"
             ]
            ],
            "type": "histogram2dcontour"
           }
          ],
          "mesh3d": [
           {
            "colorbar": {
             "outlinewidth": 0,
             "ticks": ""
            },
            "type": "mesh3d"
           }
          ],
          "parcoords": [
           {
            "line": {
             "colorbar": {
              "outlinewidth": 0,
              "ticks": ""
             }
            },
            "type": "parcoords"
           }
          ],
          "pie": [
           {
            "automargin": true,
            "type": "pie"
           }
          ],
          "scatter": [
           {
            "fillpattern": {
             "fillmode": "overlay",
             "size": 10,
             "solidity": 0.2
            },
            "type": "scatter"
           }
          ],
          "scatter3d": [
           {
            "line": {
             "colorbar": {
              "outlinewidth": 0,
              "ticks": ""
             }
            },
            "marker": {
             "colorbar": {
              "outlinewidth": 0,
              "ticks": ""
             }
            },
            "type": "scatter3d"
           }
          ],
          "scattercarpet": [
           {
            "marker": {
             "colorbar": {
              "outlinewidth": 0,
              "ticks": ""
             }
            },
            "type": "scattercarpet"
           }
          ],
          "scattergeo": [
           {
            "marker": {
             "colorbar": {
              "outlinewidth": 0,
              "ticks": ""
             }
            },
            "type": "scattergeo"
           }
          ],
          "scattergl": [
           {
            "marker": {
             "colorbar": {
              "outlinewidth": 0,
              "ticks": ""
             }
            },
            "type": "scattergl"
           }
          ],
          "scattermapbox": [
           {
            "marker": {
             "colorbar": {
              "outlinewidth": 0,
              "ticks": ""
             }
            },
            "type": "scattermapbox"
           }
          ],
          "scatterpolar": [
           {
            "marker": {
             "colorbar": {
              "outlinewidth": 0,
              "ticks": ""
             }
            },
            "type": "scatterpolar"
           }
          ],
          "scatterpolargl": [
           {
            "marker": {
             "colorbar": {
              "outlinewidth": 0,
              "ticks": ""
             }
            },
            "type": "scatterpolargl"
           }
          ],
          "scatterternary": [
           {
            "marker": {
             "colorbar": {
              "outlinewidth": 0,
              "ticks": ""
             }
            },
            "type": "scatterternary"
           }
          ],
          "surface": [
           {
            "colorbar": {
             "outlinewidth": 0,
             "ticks": ""
            },
            "colorscale": [
             [
              0,
              "#0d0887"
             ],
             [
              0.1111111111111111,
              "#46039f"
             ],
             [
              0.2222222222222222,
              "#7201a8"
             ],
             [
              0.3333333333333333,
              "#9c179e"
             ],
             [
              0.4444444444444444,
              "#bd3786"
             ],
             [
              0.5555555555555556,
              "#d8576b"
             ],
             [
              0.6666666666666666,
              "#ed7953"
             ],
             [
              0.7777777777777778,
              "#fb9f3a"
             ],
             [
              0.8888888888888888,
              "#fdca26"
             ],
             [
              1,
              "#f0f921"
             ]
            ],
            "type": "surface"
           }
          ],
          "table": [
           {
            "cells": {
             "fill": {
              "color": "#EBF0F8"
             },
             "line": {
              "color": "white"
             }
            },
            "header": {
             "fill": {
              "color": "#C8D4E3"
             },
             "line": {
              "color": "white"
             }
            },
            "type": "table"
           }
          ]
         },
         "layout": {
          "annotationdefaults": {
           "arrowcolor": "#2a3f5f",
           "arrowhead": 0,
           "arrowwidth": 1
          },
          "autotypenumbers": "strict",
          "coloraxis": {
           "colorbar": {
            "outlinewidth": 0,
            "ticks": ""
           }
          },
          "colorscale": {
           "diverging": [
            [
             0,
             "#8e0152"
            ],
            [
             0.1,
             "#c51b7d"
            ],
            [
             0.2,
             "#de77ae"
            ],
            [
             0.3,
             "#f1b6da"
            ],
            [
             0.4,
             "#fde0ef"
            ],
            [
             0.5,
             "#f7f7f7"
            ],
            [
             0.6,
             "#e6f5d0"
            ],
            [
             0.7,
             "#b8e186"
            ],
            [
             0.8,
             "#7fbc41"
            ],
            [
             0.9,
             "#4d9221"
            ],
            [
             1,
             "#276419"
            ]
           ],
           "sequential": [
            [
             0,
             "#0d0887"
            ],
            [
             0.1111111111111111,
             "#46039f"
            ],
            [
             0.2222222222222222,
             "#7201a8"
            ],
            [
             0.3333333333333333,
             "#9c179e"
            ],
            [
             0.4444444444444444,
             "#bd3786"
            ],
            [
             0.5555555555555556,
             "#d8576b"
            ],
            [
             0.6666666666666666,
             "#ed7953"
            ],
            [
             0.7777777777777778,
             "#fb9f3a"
            ],
            [
             0.8888888888888888,
             "#fdca26"
            ],
            [
             1,
             "#f0f921"
            ]
           ],
           "sequentialminus": [
            [
             0,
             "#0d0887"
            ],
            [
             0.1111111111111111,
             "#46039f"
            ],
            [
             0.2222222222222222,
             "#7201a8"
            ],
            [
             0.3333333333333333,
             "#9c179e"
            ],
            [
             0.4444444444444444,
             "#bd3786"
            ],
            [
             0.5555555555555556,
             "#d8576b"
            ],
            [
             0.6666666666666666,
             "#ed7953"
            ],
            [
             0.7777777777777778,
             "#fb9f3a"
            ],
            [
             0.8888888888888888,
             "#fdca26"
            ],
            [
             1,
             "#f0f921"
            ]
           ]
          },
          "colorway": [
           "#636efa",
           "#EF553B",
           "#00cc96",
           "#ab63fa",
           "#FFA15A",
           "#19d3f3",
           "#FF6692",
           "#B6E880",
           "#FF97FF",
           "#FECB52"
          ],
          "font": {
           "color": "#2a3f5f"
          },
          "geo": {
           "bgcolor": "white",
           "lakecolor": "white",
           "landcolor": "#E5ECF6",
           "showlakes": true,
           "showland": true,
           "subunitcolor": "white"
          },
          "hoverlabel": {
           "align": "left"
          },
          "hovermode": "closest",
          "mapbox": {
           "style": "light"
          },
          "paper_bgcolor": "white",
          "plot_bgcolor": "#E5ECF6",
          "polar": {
           "angularaxis": {
            "gridcolor": "white",
            "linecolor": "white",
            "ticks": ""
           },
           "bgcolor": "#E5ECF6",
           "radialaxis": {
            "gridcolor": "white",
            "linecolor": "white",
            "ticks": ""
           }
          },
          "scene": {
           "xaxis": {
            "backgroundcolor": "#E5ECF6",
            "gridcolor": "white",
            "gridwidth": 2,
            "linecolor": "white",
            "showbackground": true,
            "ticks": "",
            "zerolinecolor": "white"
           },
           "yaxis": {
            "backgroundcolor": "#E5ECF6",
            "gridcolor": "white",
            "gridwidth": 2,
            "linecolor": "white",
            "showbackground": true,
            "ticks": "",
            "zerolinecolor": "white"
           },
           "zaxis": {
            "backgroundcolor": "#E5ECF6",
            "gridcolor": "white",
            "gridwidth": 2,
            "linecolor": "white",
            "showbackground": true,
            "ticks": "",
            "zerolinecolor": "white"
           }
          },
          "shapedefaults": {
           "line": {
            "color": "#2a3f5f"
           }
          },
          "ternary": {
           "aaxis": {
            "gridcolor": "white",
            "linecolor": "white",
            "ticks": ""
           },
           "baxis": {
            "gridcolor": "white",
            "linecolor": "white",
            "ticks": ""
           },
           "bgcolor": "#E5ECF6",
           "caxis": {
            "gridcolor": "white",
            "linecolor": "white",
            "ticks": ""
           }
          },
          "title": {
           "x": 0.05
          },
          "xaxis": {
           "automargin": true,
           "gridcolor": "white",
           "linecolor": "white",
           "ticks": "",
           "title": {
            "standoff": 15
           },
           "zerolinecolor": "white",
           "zerolinewidth": 2
          },
          "yaxis": {
           "automargin": true,
           "gridcolor": "white",
           "linecolor": "white",
           "ticks": "",
           "title": {
            "standoff": 15
           },
           "zerolinecolor": "white",
           "zerolinewidth": 2
          }
         }
        },
        "title": {
         "text": "Foreign Tourist Arrivals to India by Country (2014-2020)"
        },
        "xaxis": {
         "title": {
          "text": "Year"
         }
        },
        "yaxis": {
         "title": {
          "text": "Number of Tourists"
         }
        }
       }
      }
     },
     "metadata": {},
     "output_type": "display_data"
    }
   ],
   "source": [
    "# 1. Interactive stacked bar chart\n",
    "# Pivot the long-form data to get countries as columns\n",
    "pivot_df = df_long.pivot_table(index='year', columns='country', values='ftas', aggfunc='sum')\n",
    "\n",
    "# Reset index to make year a column\n",
    "pivot_df = pivot_df.reset_index()\n",
    "\n",
    "# Create a stacked bar chart\n",
    "fig_stacked = go.Figure()\n",
    "\n",
    "# Add bars for each country\n",
    "for country in pivot_df.columns[1:]:  # Skip the 'year' column\n",
    "    fig_stacked.add_trace(go.Bar(\n",
    "        x=pivot_df['year'],\n",
    "        y=pivot_df[country],\n",
    "        name=country,\n",
    "        marker_color=country_colors.get(country, \"#808080\")\n",
    "    ))\n",
    "\n",
    "# Update layout\n",
    "fig_stacked.update_layout(\n",
    "    title='Foreign Tourist Arrivals to India by Country (2014-2020)',\n",
    "    xaxis_title='Year',\n",
    "    yaxis_title='Number of Tourists',\n",
    "    legend_title='Country',\n",
    "    barmode='stack',\n",
    "    hovermode='x unified'\n",
    ")\n",
    "\n",
    "# Save the figure as an HTML file\n",
    "fig_stacked.show()"
   ]
  },
  {
   "cell_type": "code",
   "execution_count": 17,
   "metadata": {},
   "outputs": [
    {
     "data": {
      "application/vnd.plotly.v1+json": {
       "config": {
        "plotlyServerURL": "https://plot.ly"
       },
       "data": [
        {
         "line": {
          "color": "#d45087",
          "width": 3
         },
         "marker": {
          "size": 10
         },
         "mode": "lines+markers",
         "name": "Australia",
         "type": "scatter",
         "x": [
          2014,
          2015,
          2016,
          2017,
          2018,
          2019,
          2020
         ],
         "y": [
          239762,
          263101,
          293625,
          324243,
          346486,
          367241,
          86758
         ]
        },
        {
         "line": {
          "color": "#003f5c",
          "width": 3
         },
         "marker": {
          "size": 10
         },
         "mode": "lines+markers",
         "name": "Bangladesh",
         "type": "scatter",
         "x": [
          2014,
          2015,
          2016,
          2017,
          2018,
          2019,
          2020
         ],
         "y": [
          942562,
          1133879,
          1380409,
          2156557,
          2256675,
          2577727,
          549273
         ]
        },
        {
         "line": {
          "color": "#a05195",
          "width": 3
         },
         "marker": {
          "size": 10
         },
         "mode": "lines+markers",
         "name": "Canada",
         "type": "scatter",
         "x": [
          2014,
          2015,
          2016,
          2017,
          2018,
          2019,
          2020
         ],
         "y": [
          268485,
          281306,
          317239,
          335439,
          351040,
          351859,
          122868
         ]
        },
        {
         "line": {
          "color": "#7F2CCB",
          "width": 3
         },
         "marker": {
          "size": 10
         },
         "mode": "lines+markers",
         "name": "Germany",
         "type": "scatter",
         "x": [
          2014,
          2015,
          2016,
          2017,
          2018,
          2019,
          2020
         ],
         "y": [
          239106,
          248314,
          265928,
          269380,
          274087,
          264973,
          72558
         ]
        },
        {
         "line": {
          "color": "#f95d6a",
          "width": 3
         },
         "marker": {
          "size": 10
         },
         "mode": "lines+markers",
         "name": "Malaysia",
         "type": "scatter",
         "x": [
          2014,
          2015,
          2016,
          2017,
          2018,
          2019,
          2020
         ],
         "y": [
          262026,
          272941,
          301961,
          322126,
          319172,
          334579,
          69897
         ]
        },
        {
         "line": {
          "color": "#ff7c43",
          "width": 3
         },
         "marker": {
          "size": 10
         },
         "mode": "lines+markers",
         "name": "Sri Lanka",
         "type": "scatter",
         "x": [
          2014,
          2015,
          2016,
          2017,
          2018,
          2019,
          2020
         ],
         "y": [
          301601,
          299513,
          297418,
          303590,
          353684,
          330861,
          68646
         ]
        },
        {
         "line": {
          "color": "#665191",
          "width": 3
         },
         "marker": {
          "size": 10
         },
         "mode": "lines+markers",
         "name": "United Kingdom",
         "type": "scatter",
         "x": [
          2014,
          2015,
          2016,
          2017,
          2018,
          2019,
          2020
         ],
         "y": [
          838860,
          867601,
          941883,
          986296,
          1029758,
          1000292,
          291874
         ]
        },
        {
         "line": {
          "color": "#2f4b7c",
          "width": 3
         },
         "marker": {
          "size": 10
         },
         "mode": "lines+markers",
         "name": "United States",
         "type": "scatter",
         "x": [
          2014,
          2015,
          2016,
          2017,
          2018,
          2019,
          2020
         ],
         "y": [
          1118983,
          1213624,
          1296939,
          1376919,
          1456678,
          1512032,
          394092
         ]
        }
       ],
       "layout": {
        "hovermode": "x unified",
        "legend": {
         "title": {
          "text": "Country"
         }
        },
        "template": {
         "data": {
          "bar": [
           {
            "error_x": {
             "color": "#2a3f5f"
            },
            "error_y": {
             "color": "#2a3f5f"
            },
            "marker": {
             "line": {
              "color": "#E5ECF6",
              "width": 0.5
             },
             "pattern": {
              "fillmode": "overlay",
              "size": 10,
              "solidity": 0.2
             }
            },
            "type": "bar"
           }
          ],
          "barpolar": [
           {
            "marker": {
             "line": {
              "color": "#E5ECF6",
              "width": 0.5
             },
             "pattern": {
              "fillmode": "overlay",
              "size": 10,
              "solidity": 0.2
             }
            },
            "type": "barpolar"
           }
          ],
          "carpet": [
           {
            "aaxis": {
             "endlinecolor": "#2a3f5f",
             "gridcolor": "white",
             "linecolor": "white",
             "minorgridcolor": "white",
             "startlinecolor": "#2a3f5f"
            },
            "baxis": {
             "endlinecolor": "#2a3f5f",
             "gridcolor": "white",
             "linecolor": "white",
             "minorgridcolor": "white",
             "startlinecolor": "#2a3f5f"
            },
            "type": "carpet"
           }
          ],
          "choropleth": [
           {
            "colorbar": {
             "outlinewidth": 0,
             "ticks": ""
            },
            "type": "choropleth"
           }
          ],
          "contour": [
           {
            "colorbar": {
             "outlinewidth": 0,
             "ticks": ""
            },
            "colorscale": [
             [
              0,
              "#0d0887"
             ],
             [
              0.1111111111111111,
              "#46039f"
             ],
             [
              0.2222222222222222,
              "#7201a8"
             ],
             [
              0.3333333333333333,
              "#9c179e"
             ],
             [
              0.4444444444444444,
              "#bd3786"
             ],
             [
              0.5555555555555556,
              "#d8576b"
             ],
             [
              0.6666666666666666,
              "#ed7953"
             ],
             [
              0.7777777777777778,
              "#fb9f3a"
             ],
             [
              0.8888888888888888,
              "#fdca26"
             ],
             [
              1,
              "#f0f921"
             ]
            ],
            "type": "contour"
           }
          ],
          "contourcarpet": [
           {
            "colorbar": {
             "outlinewidth": 0,
             "ticks": ""
            },
            "type": "contourcarpet"
           }
          ],
          "heatmap": [
           {
            "colorbar": {
             "outlinewidth": 0,
             "ticks": ""
            },
            "colorscale": [
             [
              0,
              "#0d0887"
             ],
             [
              0.1111111111111111,
              "#46039f"
             ],
             [
              0.2222222222222222,
              "#7201a8"
             ],
             [
              0.3333333333333333,
              "#9c179e"
             ],
             [
              0.4444444444444444,
              "#bd3786"
             ],
             [
              0.5555555555555556,
              "#d8576b"
             ],
             [
              0.6666666666666666,
              "#ed7953"
             ],
             [
              0.7777777777777778,
              "#fb9f3a"
             ],
             [
              0.8888888888888888,
              "#fdca26"
             ],
             [
              1,
              "#f0f921"
             ]
            ],
            "type": "heatmap"
           }
          ],
          "heatmapgl": [
           {
            "colorbar": {
             "outlinewidth": 0,
             "ticks": ""
            },
            "colorscale": [
             [
              0,
              "#0d0887"
             ],
             [
              0.1111111111111111,
              "#46039f"
             ],
             [
              0.2222222222222222,
              "#7201a8"
             ],
             [
              0.3333333333333333,
              "#9c179e"
             ],
             [
              0.4444444444444444,
              "#bd3786"
             ],
             [
              0.5555555555555556,
              "#d8576b"
             ],
             [
              0.6666666666666666,
              "#ed7953"
             ],
             [
              0.7777777777777778,
              "#fb9f3a"
             ],
             [
              0.8888888888888888,
              "#fdca26"
             ],
             [
              1,
              "#f0f921"
             ]
            ],
            "type": "heatmapgl"
           }
          ],
          "histogram": [
           {
            "marker": {
             "pattern": {
              "fillmode": "overlay",
              "size": 10,
              "solidity": 0.2
             }
            },
            "type": "histogram"
           }
          ],
          "histogram2d": [
           {
            "colorbar": {
             "outlinewidth": 0,
             "ticks": ""
            },
            "colorscale": [
             [
              0,
              "#0d0887"
             ],
             [
              0.1111111111111111,
              "#46039f"
             ],
             [
              0.2222222222222222,
              "#7201a8"
             ],
             [
              0.3333333333333333,
              "#9c179e"
             ],
             [
              0.4444444444444444,
              "#bd3786"
             ],
             [
              0.5555555555555556,
              "#d8576b"
             ],
             [
              0.6666666666666666,
              "#ed7953"
             ],
             [
              0.7777777777777778,
              "#fb9f3a"
             ],
             [
              0.8888888888888888,
              "#fdca26"
             ],
             [
              1,
              "#f0f921"
             ]
            ],
            "type": "histogram2d"
           }
          ],
          "histogram2dcontour": [
           {
            "colorbar": {
             "outlinewidth": 0,
             "ticks": ""
            },
            "colorscale": [
             [
              0,
              "#0d0887"
             ],
             [
              0.1111111111111111,
              "#46039f"
             ],
             [
              0.2222222222222222,
              "#7201a8"
             ],
             [
              0.3333333333333333,
              "#9c179e"
             ],
             [
              0.4444444444444444,
              "#bd3786"
             ],
             [
              0.5555555555555556,
              "#d8576b"
             ],
             [
              0.6666666666666666,
              "#ed7953"
             ],
             [
              0.7777777777777778,
              "#fb9f3a"
             ],
             [
              0.8888888888888888,
              "#fdca26"
             ],
             [
              1,
              "#f0f921"
             ]
            ],
            "type": "histogram2dcontour"
           }
          ],
          "mesh3d": [
           {
            "colorbar": {
             "outlinewidth": 0,
             "ticks": ""
            },
            "type": "mesh3d"
           }
          ],
          "parcoords": [
           {
            "line": {
             "colorbar": {
              "outlinewidth": 0,
              "ticks": ""
             }
            },
            "type": "parcoords"
           }
          ],
          "pie": [
           {
            "automargin": true,
            "type": "pie"
           }
          ],
          "scatter": [
           {
            "fillpattern": {
             "fillmode": "overlay",
             "size": 10,
             "solidity": 0.2
            },
            "type": "scatter"
           }
          ],
          "scatter3d": [
           {
            "line": {
             "colorbar": {
              "outlinewidth": 0,
              "ticks": ""
             }
            },
            "marker": {
             "colorbar": {
              "outlinewidth": 0,
              "ticks": ""
             }
            },
            "type": "scatter3d"
           }
          ],
          "scattercarpet": [
           {
            "marker": {
             "colorbar": {
              "outlinewidth": 0,
              "ticks": ""
             }
            },
            "type": "scattercarpet"
           }
          ],
          "scattergeo": [
           {
            "marker": {
             "colorbar": {
              "outlinewidth": 0,
              "ticks": ""
             }
            },
            "type": "scattergeo"
           }
          ],
          "scattergl": [
           {
            "marker": {
             "colorbar": {
              "outlinewidth": 0,
              "ticks": ""
             }
            },
            "type": "scattergl"
           }
          ],
          "scattermapbox": [
           {
            "marker": {
             "colorbar": {
              "outlinewidth": 0,
              "ticks": ""
             }
            },
            "type": "scattermapbox"
           }
          ],
          "scatterpolar": [
           {
            "marker": {
             "colorbar": {
              "outlinewidth": 0,
              "ticks": ""
             }
            },
            "type": "scatterpolar"
           }
          ],
          "scatterpolargl": [
           {
            "marker": {
             "colorbar": {
              "outlinewidth": 0,
              "ticks": ""
             }
            },
            "type": "scatterpolargl"
           }
          ],
          "scatterternary": [
           {
            "marker": {
             "colorbar": {
              "outlinewidth": 0,
              "ticks": ""
             }
            },
            "type": "scatterternary"
           }
          ],
          "surface": [
           {
            "colorbar": {
             "outlinewidth": 0,
             "ticks": ""
            },
            "colorscale": [
             [
              0,
              "#0d0887"
             ],
             [
              0.1111111111111111,
              "#46039f"
             ],
             [
              0.2222222222222222,
              "#7201a8"
             ],
             [
              0.3333333333333333,
              "#9c179e"
             ],
             [
              0.4444444444444444,
              "#bd3786"
             ],
             [
              0.5555555555555556,
              "#d8576b"
             ],
             [
              0.6666666666666666,
              "#ed7953"
             ],
             [
              0.7777777777777778,
              "#fb9f3a"
             ],
             [
              0.8888888888888888,
              "#fdca26"
             ],
             [
              1,
              "#f0f921"
             ]
            ],
            "type": "surface"
           }
          ],
          "table": [
           {
            "cells": {
             "fill": {
              "color": "#EBF0F8"
             },
             "line": {
              "color": "white"
             }
            },
            "header": {
             "fill": {
              "color": "#C8D4E3"
             },
             "line": {
              "color": "white"
             }
            },
            "type": "table"
           }
          ]
         },
         "layout": {
          "annotationdefaults": {
           "arrowcolor": "#2a3f5f",
           "arrowhead": 0,
           "arrowwidth": 1
          },
          "autotypenumbers": "strict",
          "coloraxis": {
           "colorbar": {
            "outlinewidth": 0,
            "ticks": ""
           }
          },
          "colorscale": {
           "diverging": [
            [
             0,
             "#8e0152"
            ],
            [
             0.1,
             "#c51b7d"
            ],
            [
             0.2,
             "#de77ae"
            ],
            [
             0.3,
             "#f1b6da"
            ],
            [
             0.4,
             "#fde0ef"
            ],
            [
             0.5,
             "#f7f7f7"
            ],
            [
             0.6,
             "#e6f5d0"
            ],
            [
             0.7,
             "#b8e186"
            ],
            [
             0.8,
             "#7fbc41"
            ],
            [
             0.9,
             "#4d9221"
            ],
            [
             1,
             "#276419"
            ]
           ],
           "sequential": [
            [
             0,
             "#0d0887"
            ],
            [
             0.1111111111111111,
             "#46039f"
            ],
            [
             0.2222222222222222,
             "#7201a8"
            ],
            [
             0.3333333333333333,
             "#9c179e"
            ],
            [
             0.4444444444444444,
             "#bd3786"
            ],
            [
             0.5555555555555556,
             "#d8576b"
            ],
            [
             0.6666666666666666,
             "#ed7953"
            ],
            [
             0.7777777777777778,
             "#fb9f3a"
            ],
            [
             0.8888888888888888,
             "#fdca26"
            ],
            [
             1,
             "#f0f921"
            ]
           ],
           "sequentialminus": [
            [
             0,
             "#0d0887"
            ],
            [
             0.1111111111111111,
             "#46039f"
            ],
            [
             0.2222222222222222,
             "#7201a8"
            ],
            [
             0.3333333333333333,
             "#9c179e"
            ],
            [
             0.4444444444444444,
             "#bd3786"
            ],
            [
             0.5555555555555556,
             "#d8576b"
            ],
            [
             0.6666666666666666,
             "#ed7953"
            ],
            [
             0.7777777777777778,
             "#fb9f3a"
            ],
            [
             0.8888888888888888,
             "#fdca26"
            ],
            [
             1,
             "#f0f921"
            ]
           ]
          },
          "colorway": [
           "#636efa",
           "#EF553B",
           "#00cc96",
           "#ab63fa",
           "#FFA15A",
           "#19d3f3",
           "#FF6692",
           "#B6E880",
           "#FF97FF",
           "#FECB52"
          ],
          "font": {
           "color": "#2a3f5f"
          },
          "geo": {
           "bgcolor": "white",
           "lakecolor": "white",
           "landcolor": "#E5ECF6",
           "showlakes": true,
           "showland": true,
           "subunitcolor": "white"
          },
          "hoverlabel": {
           "align": "left"
          },
          "hovermode": "closest",
          "mapbox": {
           "style": "light"
          },
          "paper_bgcolor": "white",
          "plot_bgcolor": "#E5ECF6",
          "polar": {
           "angularaxis": {
            "gridcolor": "white",
            "linecolor": "white",
            "ticks": ""
           },
           "bgcolor": "#E5ECF6",
           "radialaxis": {
            "gridcolor": "white",
            "linecolor": "white",
            "ticks": ""
           }
          },
          "scene": {
           "xaxis": {
            "backgroundcolor": "#E5ECF6",
            "gridcolor": "white",
            "gridwidth": 2,
            "linecolor": "white",
            "showbackground": true,
            "ticks": "",
            "zerolinecolor": "white"
           },
           "yaxis": {
            "backgroundcolor": "#E5ECF6",
            "gridcolor": "white",
            "gridwidth": 2,
            "linecolor": "white",
            "showbackground": true,
            "ticks": "",
            "zerolinecolor": "white"
           },
           "zaxis": {
            "backgroundcolor": "#E5ECF6",
            "gridcolor": "white",
            "gridwidth": 2,
            "linecolor": "white",
            "showbackground": true,
            "ticks": "",
            "zerolinecolor": "white"
           }
          },
          "shapedefaults": {
           "line": {
            "color": "#2a3f5f"
           }
          },
          "ternary": {
           "aaxis": {
            "gridcolor": "white",
            "linecolor": "white",
            "ticks": ""
           },
           "baxis": {
            "gridcolor": "white",
            "linecolor": "white",
            "ticks": ""
           },
           "bgcolor": "#E5ECF6",
           "caxis": {
            "gridcolor": "white",
            "linecolor": "white",
            "ticks": ""
           }
          },
          "title": {
           "x": 0.05
          },
          "xaxis": {
           "automargin": true,
           "gridcolor": "white",
           "linecolor": "white",
           "ticks": "",
           "title": {
            "standoff": 15
           },
           "zerolinecolor": "white",
           "zerolinewidth": 2
          },
          "yaxis": {
           "automargin": true,
           "gridcolor": "white",
           "linecolor": "white",
           "ticks": "",
           "title": {
            "standoff": 15
           },
           "zerolinecolor": "white",
           "zerolinewidth": 2
          }
         }
        },
        "title": {
         "text": "Trend of Foreign Tourist Arrivals from Top Countries (2014-2020)"
        },
        "xaxis": {
         "rangeslider": {
          "visible": true
         },
         "title": {
          "text": "Year"
         },
         "type": "linear"
        },
        "yaxis": {
         "title": {
          "text": "Number of Tourists"
         }
        }
       }
      }
     },
     "metadata": {},
     "output_type": "display_data"
    }
   ],
   "source": [
    "# 2. Interactive line chart with range slider\n",
    "# Get the consistent countries\n",
    "top_countries = analysis_results['consistent_countries'][:8]  # Top 8 for readability\n",
    "\n",
    "# Create a filtered dataframe with only these countries\n",
    "filtered_df = df_long[df_long['country'].isin(top_countries)]\n",
    "\n",
    "# Pivot to get one line per country\n",
    "trend_df = filtered_df.pivot_table(index='year', columns='country', values='ftas', aggfunc='sum')\n",
    "trend_df = trend_df.reset_index()\n",
    "\n",
    "# Create a figure with subplots and a range slider\n",
    "fig_trend = go.Figure()\n",
    "\n",
    "# Add a line for each country\n",
    "for country in top_countries:\n",
    "    if country in trend_df.columns[1:]:  # Skip the 'year' column\n",
    "        fig_trend.add_trace(go.Scatter(\n",
    "            x=trend_df['year'],\n",
    "            y=trend_df[country],\n",
    "            mode='lines+markers',\n",
    "            name=country,\n",
    "            marker=dict(size=10),\n",
    "            line=dict(width=3, color=country_colors.get(country, \"#808080\"))\n",
    "        ))\n",
    "\n",
    "# Update layout\n",
    "fig_trend.update_layout(\n",
    "    title='Trend of Foreign Tourist Arrivals from Top Countries (2014-2020)',\n",
    "    xaxis_title='Year',\n",
    "    yaxis_title='Number of Tourists',\n",
    "    legend_title='Country',\n",
    "    hovermode='x unified',\n",
    "    xaxis=dict(\n",
    "        rangeslider=dict(visible=True),\n",
    "        type='linear'\n",
    "    )\n",
    ")\n",
    "\n",
    "# Save the figure as an HTML file\n",
    "fig_trend.show()"
   ]
  },
  {
   "cell_type": "code",
   "execution_count": 18,
   "metadata": {},
   "outputs": [
    {
     "data": {
      "application/vnd.plotly.v1+json": {
       "config": {
        "plotlyServerURL": "https://plot.ly"
       },
       "data": [
        {
         "hovertemplate": "<b>%{hovertext}</b><br><br>country=%{text}<br>year=%{x}<br>rank=%{y}<br>ftas=%{marker.size}<extra></extra>",
         "hovertext": [
          "United States",
          "United States",
          "United States",
          "United States",
          "United States",
          "United States",
          "United States"
         ],
         "legendgroup": "United States",
         "marker": {
          "color": "#2f4b7c",
          "size": [
           1118983,
           1213624,
           1296939,
           1376919,
           1456678,
           1512032,
           394092
          ],
          "sizemode": "area",
          "sizeref": 716.0352777777778,
          "symbol": "circle"
         },
         "mode": "markers+text",
         "name": "United States",
         "orientation": "v",
         "showlegend": true,
         "text": [
          "United States",
          "United States",
          "United States",
          "United States",
          "United States",
          "United States",
          "United States"
         ],
         "type": "scatter",
         "x": [
          2014,
          2015,
          2016,
          2017,
          2018,
          2019,
          2020
         ],
         "xaxis": "x",
         "y": [
          1,
          1,
          2,
          2,
          2,
          2,
          2
         ],
         "yaxis": "y"
        },
        {
         "hovertemplate": "<b>%{hovertext}</b><br><br>country=%{text}<br>year=%{x}<br>rank=%{y}<br>ftas=%{marker.size}<extra></extra>",
         "hovertext": [
          "Bangladesh",
          "Bangladesh",
          "Bangladesh",
          "Bangladesh",
          "Bangladesh",
          "Bangladesh",
          "Bangladesh"
         ],
         "legendgroup": "Bangladesh",
         "marker": {
          "color": "#003f5c",
          "size": [
           942562,
           1133879,
           1380409,
           2156557,
           2256675,
           2577727,
           549273
          ],
          "sizemode": "area",
          "sizeref": 716.0352777777778,
          "symbol": "circle"
         },
         "mode": "markers+text",
         "name": "Bangladesh",
         "orientation": "v",
         "showlegend": true,
         "text": [
          "Bangladesh",
          "Bangladesh",
          "Bangladesh",
          "Bangladesh",
          "Bangladesh",
          "Bangladesh",
          "Bangladesh"
         ],
         "type": "scatter",
         "x": [
          2014,
          2015,
          2016,
          2017,
          2018,
          2019,
          2020
         ],
         "xaxis": "x",
         "y": [
          2,
          2,
          1,
          1,
          1,
          1,
          1
         ],
         "yaxis": "y"
        },
        {
         "hovertemplate": "<b>%{hovertext}</b><br><br>country=%{text}<br>year=%{x}<br>rank=%{y}<br>ftas=%{marker.size}<extra></extra>",
         "hovertext": [
          "United Kingdom",
          "United Kingdom",
          "United Kingdom",
          "United Kingdom",
          "United Kingdom",
          "United Kingdom",
          "United Kingdom"
         ],
         "legendgroup": "United Kingdom",
         "marker": {
          "color": "#665191",
          "size": [
           838860,
           867601,
           941883,
           986296,
           1029758,
           1000292,
           291874
          ],
          "sizemode": "area",
          "sizeref": 716.0352777777778,
          "symbol": "circle"
         },
         "mode": "markers+text",
         "name": "United Kingdom",
         "orientation": "v",
         "showlegend": true,
         "text": [
          "United Kingdom",
          "United Kingdom",
          "United Kingdom",
          "United Kingdom",
          "United Kingdom",
          "United Kingdom",
          "United Kingdom"
         ],
         "type": "scatter",
         "x": [
          2014,
          2015,
          2016,
          2017,
          2018,
          2019,
          2020
         ],
         "xaxis": "x",
         "y": [
          3,
          3,
          3,
          3,
          3,
          3,
          3
         ],
         "yaxis": "y"
        },
        {
         "hovertemplate": "<b>%{hovertext}</b><br><br>country=%{text}<br>year=%{x}<br>rank=%{y}<br>ftas=%{marker.size}<extra></extra>",
         "hovertext": [
          "Sri Lanka",
          "Sri Lanka",
          "Sri Lanka",
          "Sri Lanka",
          "Sri Lanka",
          "Sri Lanka",
          "Sri Lanka"
         ],
         "legendgroup": "Sri Lanka",
         "marker": {
          "color": "#ff7c43",
          "size": [
           301601,
           299513,
           297418,
           303590,
           353684,
           330861,
           68646
          ],
          "sizemode": "area",
          "sizeref": 716.0352777777778,
          "symbol": "circle"
         },
         "mode": "markers+text",
         "name": "Sri Lanka",
         "orientation": "v",
         "showlegend": true,
         "text": [
          "Sri Lanka",
          "Sri Lanka",
          "Sri Lanka",
          "Sri Lanka",
          "Sri Lanka",
          "Sri Lanka",
          "Sri Lanka"
         ],
         "type": "scatter",
         "x": [
          2014,
          2015,
          2016,
          2017,
          2018,
          2019,
          2020
         ],
         "xaxis": "x",
         "y": [
          4,
          4,
          6,
          7,
          4,
          8,
          10
         ],
         "yaxis": "y"
        },
        {
         "hovertemplate": "<b>%{hovertext}</b><br><br>country=%{text}<br>year=%{x}<br>rank=%{y}<br>ftas=%{marker.size}<extra></extra>",
         "hovertext": [
          "Russian Fed.",
          "Russian Fed.",
          "Russian Fed.",
          "Russian Fed.",
          "Russian Fed."
         ],
         "legendgroup": "Russian Fed.",
         "marker": {
          "color": "#FF6692",
          "size": [
           269832,
           278904,
           262309,
           251319,
           102166
          ],
          "sizemode": "area",
          "sizeref": 716.0352777777778,
          "symbol": "circle"
         },
         "mode": "markers+text",
         "name": "Russian Fed.",
         "orientation": "v",
         "showlegend": true,
         "text": [
          "Russian Fed.",
          "Russian Fed.",
          "Russian Fed.",
          "Russian Fed.",
          "Russian Fed."
         ],
         "type": "scatter",
         "x": [
          2014,
          2017,
          2018,
          2019,
          2020
         ],
         "xaxis": "x",
         "y": [
          5,
          8,
          10,
          10,
          5
         ],
         "yaxis": "y"
        },
        {
         "hovertemplate": "<b>%{hovertext}</b><br><br>country=%{text}<br>year=%{x}<br>rank=%{y}<br>ftas=%{marker.size}<extra></extra>",
         "hovertext": [
          "Canada",
          "Canada",
          "Canada",
          "Canada",
          "Canada",
          "Canada",
          "Canada"
         ],
         "legendgroup": "Canada",
         "marker": {
          "color": "#a05195",
          "size": [
           268485,
           281306,
           317239,
           335439,
           351040,
           351859,
           122868
          ],
          "sizemode": "area",
          "sizeref": 716.0352777777778,
          "symbol": "circle"
         },
         "mode": "markers+text",
         "name": "Canada",
         "orientation": "v",
         "showlegend": true,
         "text": [
          "Canada",
          "Canada",
          "Canada",
          "Canada",
          "Canada",
          "Canada",
          "Canada"
         ],
         "type": "scatter",
         "x": [
          2014,
          2015,
          2016,
          2017,
          2018,
          2019,
          2020
         ],
         "xaxis": "x",
         "y": [
          6,
          5,
          4,
          4,
          5,
          5,
          4
         ],
         "yaxis": "y"
        },
        {
         "hovertemplate": "<b>%{hovertext}</b><br><br>country=%{text}<br>year=%{x}<br>rank=%{y}<br>ftas=%{marker.size}<extra></extra>",
         "hovertext": [
          "Malaysia",
          "Malaysia",
          "Malaysia",
          "Malaysia",
          "Malaysia",
          "Malaysia",
          "Malaysia"
         ],
         "legendgroup": "Malaysia",
         "marker": {
          "color": "#f95d6a",
          "size": [
           262026,
           272941,
           301961,
           322126,
           319172,
           334579,
           69897
          ],
          "sizemode": "area",
          "sizeref": 716.0352777777778,
          "symbol": "circle"
         },
         "mode": "markers+text",
         "name": "Malaysia",
         "orientation": "v",
         "showlegend": true,
         "text": [
          "Malaysia",
          "Malaysia",
          "Malaysia",
          "Malaysia",
          "Malaysia",
          "Malaysia",
          "Malaysia"
         ],
         "type": "scatter",
         "x": [
          2014,
          2015,
          2016,
          2017,
          2018,
          2019,
          2020
         ],
         "xaxis": "x",
         "y": [
          7,
          6,
          5,
          6,
          7,
          7,
          9
         ],
         "yaxis": "y"
        },
        {
         "hovertemplate": "<b>%{hovertext}</b><br><br>country=%{text}<br>year=%{x}<br>rank=%{y}<br>ftas=%{marker.size}<extra></extra>",
         "hovertext": [
          "France",
          "France",
          "France",
          "France",
          "France"
         ],
         "legendgroup": "France",
         "marker": {
          "color": "#00CC96",
          "size": [
           246101,
           230854,
           238707,
           249620,
           74243
          ],
          "sizemode": "area",
          "sizeref": 716.0352777777778,
          "symbol": "circle"
         },
         "mode": "markers+text",
         "name": "France",
         "orientation": "v",
         "showlegend": true,
         "text": [
          "France",
          "France",
          "France",
          "France",
          "France"
         ],
         "type": "scatter",
         "x": [
          2014,
          2015,
          2016,
          2017,
          2020
         ],
         "xaxis": "x",
         "y": [
          8,
          9,
          10,
          10,
          7
         ],
         "yaxis": "y"
        },
        {
         "hovertemplate": "<b>%{hovertext}</b><br><br>country=%{text}<br>year=%{x}<br>rank=%{y}<br>ftas=%{marker.size}<extra></extra>",
         "hovertext": [
          "Australia",
          "Australia",
          "Australia",
          "Australia",
          "Australia",
          "Australia",
          "Australia"
         ],
         "legendgroup": "Australia",
         "marker": {
          "color": "#d45087",
          "size": [
           239762,
           263101,
           293625,
           324243,
           346486,
           367241,
           86758
          ],
          "sizemode": "area",
          "sizeref": 716.0352777777778,
          "symbol": "circle"
         },
         "mode": "markers+text",
         "name": "Australia",
         "orientation": "v",
         "showlegend": true,
         "text": [
          "Australia",
          "Australia",
          "Australia",
          "Australia",
          "Australia",
          "Australia",
          "Australia"
         ],
         "type": "scatter",
         "x": [
          2014,
          2015,
          2016,
          2017,
          2018,
          2019,
          2020
         ],
         "xaxis": "x",
         "y": [
          9,
          7,
          7,
          5,
          6,
          4,
          6
         ],
         "yaxis": "y"
        },
        {
         "hovertemplate": "<b>%{hovertext}</b><br><br>country=%{text}<br>year=%{x}<br>rank=%{y}<br>ftas=%{marker.size}<extra></extra>",
         "hovertext": [
          "Germany",
          "Germany",
          "Germany",
          "Germany",
          "Germany",
          "Germany",
          "Germany"
         ],
         "legendgroup": "Germany",
         "marker": {
          "color": "#7F2CCB",
          "size": [
           239106,
           248314,
           265928,
           269380,
           274087,
           264973,
           72558
          ],
          "sizemode": "area",
          "sizeref": 716.0352777777778,
          "symbol": "circle"
         },
         "mode": "markers+text",
         "name": "Germany",
         "orientation": "v",
         "showlegend": true,
         "text": [
          "Germany",
          "Germany",
          "Germany",
          "Germany",
          "Germany",
          "Germany",
          "Germany"
         ],
         "type": "scatter",
         "x": [
          2014,
          2015,
          2016,
          2017,
          2018,
          2019,
          2020
         ],
         "xaxis": "x",
         "y": [
          10,
          8,
          8,
          9,
          9,
          9,
          8
         ],
         "yaxis": "y"
        },
        {
         "hovertemplate": "<b>%{hovertext}</b><br><br>country=%{text}<br>year=%{x}<br>rank=%{y}<br>ftas=%{marker.size}<extra></extra>",
         "hovertext": [
          "Japan"
         ],
         "legendgroup": "Japan",
         "marker": {
          "color": "#EF553B",
          "size": [
           207415
          ],
          "sizemode": "area",
          "sizeref": 716.0352777777778,
          "symbol": "circle"
         },
         "mode": "markers+text",
         "name": "Japan",
         "orientation": "v",
         "showlegend": true,
         "text": [
          "Japan"
         ],
         "type": "scatter",
         "x": [
          2015
         ],
         "xaxis": "x",
         "y": [
          10
         ],
         "yaxis": "y"
        },
        {
         "hovertemplate": "<b>%{hovertext}</b><br><br>country=%{text}<br>year=%{x}<br>rank=%{y}<br>ftas=%{marker.size}<extra></extra>",
         "hovertext": [
          "China",
          "China",
          "China"
         ],
         "legendgroup": "China",
         "marker": {
          "color": "#ffa600",
          "size": [
           251313,
           281768,
           339442
          ],
          "sizemode": "area",
          "sizeref": 716.0352777777778,
          "symbol": "circle"
         },
         "mode": "markers+text",
         "name": "China",
         "orientation": "v",
         "showlegend": true,
         "text": [
          "China",
          "China",
          "China"
         ],
         "type": "scatter",
         "x": [
          2016,
          2018,
          2019
         ],
         "xaxis": "x",
         "y": [
          9,
          8,
          6
         ],
         "yaxis": "y"
        }
       ],
       "layout": {
        "hovermode": "closest",
        "legend": {
         "itemsizing": "constant",
         "title": {
          "text": "country"
         },
         "tracegroupgap": 0
        },
        "template": {
         "data": {
          "bar": [
           {
            "error_x": {
             "color": "#2a3f5f"
            },
            "error_y": {
             "color": "#2a3f5f"
            },
            "marker": {
             "line": {
              "color": "#E5ECF6",
              "width": 0.5
             },
             "pattern": {
              "fillmode": "overlay",
              "size": 10,
              "solidity": 0.2
             }
            },
            "type": "bar"
           }
          ],
          "barpolar": [
           {
            "marker": {
             "line": {
              "color": "#E5ECF6",
              "width": 0.5
             },
             "pattern": {
              "fillmode": "overlay",
              "size": 10,
              "solidity": 0.2
             }
            },
            "type": "barpolar"
           }
          ],
          "carpet": [
           {
            "aaxis": {
             "endlinecolor": "#2a3f5f",
             "gridcolor": "white",
             "linecolor": "white",
             "minorgridcolor": "white",
             "startlinecolor": "#2a3f5f"
            },
            "baxis": {
             "endlinecolor": "#2a3f5f",
             "gridcolor": "white",
             "linecolor": "white",
             "minorgridcolor": "white",
             "startlinecolor": "#2a3f5f"
            },
            "type": "carpet"
           }
          ],
          "choropleth": [
           {
            "colorbar": {
             "outlinewidth": 0,
             "ticks": ""
            },
            "type": "choropleth"
           }
          ],
          "contour": [
           {
            "colorbar": {
             "outlinewidth": 0,
             "ticks": ""
            },
            "colorscale": [
             [
              0,
              "#0d0887"
             ],
             [
              0.1111111111111111,
              "#46039f"
             ],
             [
              0.2222222222222222,
              "#7201a8"
             ],
             [
              0.3333333333333333,
              "#9c179e"
             ],
             [
              0.4444444444444444,
              "#bd3786"
             ],
             [
              0.5555555555555556,
              "#d8576b"
             ],
             [
              0.6666666666666666,
              "#ed7953"
             ],
             [
              0.7777777777777778,
              "#fb9f3a"
             ],
             [
              0.8888888888888888,
              "#fdca26"
             ],
             [
              1,
              "#f0f921"
             ]
            ],
            "type": "contour"
           }
          ],
          "contourcarpet": [
           {
            "colorbar": {
             "outlinewidth": 0,
             "ticks": ""
            },
            "type": "contourcarpet"
           }
          ],
          "heatmap": [
           {
            "colorbar": {
             "outlinewidth": 0,
             "ticks": ""
            },
            "colorscale": [
             [
              0,
              "#0d0887"
             ],
             [
              0.1111111111111111,
              "#46039f"
             ],
             [
              0.2222222222222222,
              "#7201a8"
             ],
             [
              0.3333333333333333,
              "#9c179e"
             ],
             [
              0.4444444444444444,
              "#bd3786"
             ],
             [
              0.5555555555555556,
              "#d8576b"
             ],
             [
              0.6666666666666666,
              "#ed7953"
             ],
             [
              0.7777777777777778,
              "#fb9f3a"
             ],
             [
              0.8888888888888888,
              "#fdca26"
             ],
             [
              1,
              "#f0f921"
             ]
            ],
            "type": "heatmap"
           }
          ],
          "heatmapgl": [
           {
            "colorbar": {
             "outlinewidth": 0,
             "ticks": ""
            },
            "colorscale": [
             [
              0,
              "#0d0887"
             ],
             [
              0.1111111111111111,
              "#46039f"
             ],
             [
              0.2222222222222222,
              "#7201a8"
             ],
             [
              0.3333333333333333,
              "#9c179e"
             ],
             [
              0.4444444444444444,
              "#bd3786"
             ],
             [
              0.5555555555555556,
              "#d8576b"
             ],
             [
              0.6666666666666666,
              "#ed7953"
             ],
             [
              0.7777777777777778,
              "#fb9f3a"
             ],
             [
              0.8888888888888888,
              "#fdca26"
             ],
             [
              1,
              "#f0f921"
             ]
            ],
            "type": "heatmapgl"
           }
          ],
          "histogram": [
           {
            "marker": {
             "pattern": {
              "fillmode": "overlay",
              "size": 10,
              "solidity": 0.2
             }
            },
            "type": "histogram"
           }
          ],
          "histogram2d": [
           {
            "colorbar": {
             "outlinewidth": 0,
             "ticks": ""
            },
            "colorscale": [
             [
              0,
              "#0d0887"
             ],
             [
              0.1111111111111111,
              "#46039f"
             ],
             [
              0.2222222222222222,
              "#7201a8"
             ],
             [
              0.3333333333333333,
              "#9c179e"
             ],
             [
              0.4444444444444444,
              "#bd3786"
             ],
             [
              0.5555555555555556,
              "#d8576b"
             ],
             [
              0.6666666666666666,
              "#ed7953"
             ],
             [
              0.7777777777777778,
              "#fb9f3a"
             ],
             [
              0.8888888888888888,
              "#fdca26"
             ],
             [
              1,
              "#f0f921"
             ]
            ],
            "type": "histogram2d"
           }
          ],
          "histogram2dcontour": [
           {
            "colorbar": {
             "outlinewidth": 0,
             "ticks": ""
            },
            "colorscale": [
             [
              0,
              "#0d0887"
             ],
             [
              0.1111111111111111,
              "#46039f"
             ],
             [
              0.2222222222222222,
              "#7201a8"
             ],
             [
              0.3333333333333333,
              "#9c179e"
             ],
             [
              0.4444444444444444,
              "#bd3786"
             ],
             [
              0.5555555555555556,
              "#d8576b"
             ],
             [
              0.6666666666666666,
              "#ed7953"
             ],
             [
              0.7777777777777778,
              "#fb9f3a"
             ],
             [
              0.8888888888888888,
              "#fdca26"
             ],
             [
              1,
              "#f0f921"
             ]
            ],
            "type": "histogram2dcontour"
           }
          ],
          "mesh3d": [
           {
            "colorbar": {
             "outlinewidth": 0,
             "ticks": ""
            },
            "type": "mesh3d"
           }
          ],
          "parcoords": [
           {
            "line": {
             "colorbar": {
              "outlinewidth": 0,
              "ticks": ""
             }
            },
            "type": "parcoords"
           }
          ],
          "pie": [
           {
            "automargin": true,
            "type": "pie"
           }
          ],
          "scatter": [
           {
            "fillpattern": {
             "fillmode": "overlay",
             "size": 10,
             "solidity": 0.2
            },
            "type": "scatter"
           }
          ],
          "scatter3d": [
           {
            "line": {
             "colorbar": {
              "outlinewidth": 0,
              "ticks": ""
             }
            },
            "marker": {
             "colorbar": {
              "outlinewidth": 0,
              "ticks": ""
             }
            },
            "type": "scatter3d"
           }
          ],
          "scattercarpet": [
           {
            "marker": {
             "colorbar": {
              "outlinewidth": 0,
              "ticks": ""
             }
            },
            "type": "scattercarpet"
           }
          ],
          "scattergeo": [
           {
            "marker": {
             "colorbar": {
              "outlinewidth": 0,
              "ticks": ""
             }
            },
            "type": "scattergeo"
           }
          ],
          "scattergl": [
           {
            "marker": {
             "colorbar": {
              "outlinewidth": 0,
              "ticks": ""
             }
            },
            "type": "scattergl"
           }
          ],
          "scattermapbox": [
           {
            "marker": {
             "colorbar": {
              "outlinewidth": 0,
              "ticks": ""
             }
            },
            "type": "scattermapbox"
           }
          ],
          "scatterpolar": [
           {
            "marker": {
             "colorbar": {
              "outlinewidth": 0,
              "ticks": ""
             }
            },
            "type": "scatterpolar"
           }
          ],
          "scatterpolargl": [
           {
            "marker": {
             "colorbar": {
              "outlinewidth": 0,
              "ticks": ""
             }
            },
            "type": "scatterpolargl"
           }
          ],
          "scatterternary": [
           {
            "marker": {
             "colorbar": {
              "outlinewidth": 0,
              "ticks": ""
             }
            },
            "type": "scatterternary"
           }
          ],
          "surface": [
           {
            "colorbar": {
             "outlinewidth": 0,
             "ticks": ""
            },
            "colorscale": [
             [
              0,
              "#0d0887"
             ],
             [
              0.1111111111111111,
              "#46039f"
             ],
             [
              0.2222222222222222,
              "#7201a8"
             ],
             [
              0.3333333333333333,
              "#9c179e"
             ],
             [
              0.4444444444444444,
              "#bd3786"
             ],
             [
              0.5555555555555556,
              "#d8576b"
             ],
             [
              0.6666666666666666,
              "#ed7953"
             ],
             [
              0.7777777777777778,
              "#fb9f3a"
             ],
             [
              0.8888888888888888,
              "#fdca26"
             ],
             [
              1,
              "#f0f921"
             ]
            ],
            "type": "surface"
           }
          ],
          "table": [
           {
            "cells": {
             "fill": {
              "color": "#EBF0F8"
             },
             "line": {
              "color": "white"
             }
            },
            "header": {
             "fill": {
              "color": "#C8D4E3"
             },
             "line": {
              "color": "white"
             }
            },
            "type": "table"
           }
          ]
         },
         "layout": {
          "annotationdefaults": {
           "arrowcolor": "#2a3f5f",
           "arrowhead": 0,
           "arrowwidth": 1
          },
          "autotypenumbers": "strict",
          "coloraxis": {
           "colorbar": {
            "outlinewidth": 0,
            "ticks": ""
           }
          },
          "colorscale": {
           "diverging": [
            [
             0,
             "#8e0152"
            ],
            [
             0.1,
             "#c51b7d"
            ],
            [
             0.2,
             "#de77ae"
            ],
            [
             0.3,
             "#f1b6da"
            ],
            [
             0.4,
             "#fde0ef"
            ],
            [
             0.5,
             "#f7f7f7"
            ],
            [
             0.6,
             "#e6f5d0"
            ],
            [
             0.7,
             "#b8e186"
            ],
            [
             0.8,
             "#7fbc41"
            ],
            [
             0.9,
             "#4d9221"
            ],
            [
             1,
             "#276419"
            ]
           ],
           "sequential": [
            [
             0,
             "#0d0887"
            ],
            [
             0.1111111111111111,
             "#46039f"
            ],
            [
             0.2222222222222222,
             "#7201a8"
            ],
            [
             0.3333333333333333,
             "#9c179e"
            ],
            [
             0.4444444444444444,
             "#bd3786"
            ],
            [
             0.5555555555555556,
             "#d8576b"
            ],
            [
             0.6666666666666666,
             "#ed7953"
            ],
            [
             0.7777777777777778,
             "#fb9f3a"
            ],
            [
             0.8888888888888888,
             "#fdca26"
            ],
            [
             1,
             "#f0f921"
            ]
           ],
           "sequentialminus": [
            [
             0,
             "#0d0887"
            ],
            [
             0.1111111111111111,
             "#46039f"
            ],
            [
             0.2222222222222222,
             "#7201a8"
            ],
            [
             0.3333333333333333,
             "#9c179e"
            ],
            [
             0.4444444444444444,
             "#bd3786"
            ],
            [
             0.5555555555555556,
             "#d8576b"
            ],
            [
             0.6666666666666666,
             "#ed7953"
            ],
            [
             0.7777777777777778,
             "#fb9f3a"
            ],
            [
             0.8888888888888888,
             "#fdca26"
            ],
            [
             1,
             "#f0f921"
            ]
           ]
          },
          "colorway": [
           "#636efa",
           "#EF553B",
           "#00cc96",
           "#ab63fa",
           "#FFA15A",
           "#19d3f3",
           "#FF6692",
           "#B6E880",
           "#FF97FF",
           "#FECB52"
          ],
          "font": {
           "color": "#2a3f5f"
          },
          "geo": {
           "bgcolor": "white",
           "lakecolor": "white",
           "landcolor": "#E5ECF6",
           "showlakes": true,
           "showland": true,
           "subunitcolor": "white"
          },
          "hoverlabel": {
           "align": "left"
          },
          "hovermode": "closest",
          "mapbox": {
           "style": "light"
          },
          "paper_bgcolor": "white",
          "plot_bgcolor": "#E5ECF6",
          "polar": {
           "angularaxis": {
            "gridcolor": "white",
            "linecolor": "white",
            "ticks": ""
           },
           "bgcolor": "#E5ECF6",
           "radialaxis": {
            "gridcolor": "white",
            "linecolor": "white",
            "ticks": ""
           }
          },
          "scene": {
           "xaxis": {
            "backgroundcolor": "#E5ECF6",
            "gridcolor": "white",
            "gridwidth": 2,
            "linecolor": "white",
            "showbackground": true,
            "ticks": "",
            "zerolinecolor": "white"
           },
           "yaxis": {
            "backgroundcolor": "#E5ECF6",
            "gridcolor": "white",
            "gridwidth": 2,
            "linecolor": "white",
            "showbackground": true,
            "ticks": "",
            "zerolinecolor": "white"
           },
           "zaxis": {
            "backgroundcolor": "#E5ECF6",
            "gridcolor": "white",
            "gridwidth": 2,
            "linecolor": "white",
            "showbackground": true,
            "ticks": "",
            "zerolinecolor": "white"
           }
          },
          "shapedefaults": {
           "line": {
            "color": "#2a3f5f"
           }
          },
          "ternary": {
           "aaxis": {
            "gridcolor": "white",
            "linecolor": "white",
            "ticks": ""
           },
           "baxis": {
            "gridcolor": "white",
            "linecolor": "white",
            "ticks": ""
           },
           "bgcolor": "#E5ECF6",
           "caxis": {
            "gridcolor": "white",
            "linecolor": "white",
            "ticks": ""
           }
          },
          "title": {
           "x": 0.05
          },
          "xaxis": {
           "automargin": true,
           "gridcolor": "white",
           "linecolor": "white",
           "ticks": "",
           "title": {
            "standoff": 15
           },
           "zerolinecolor": "white",
           "zerolinewidth": 2
          },
          "yaxis": {
           "automargin": true,
           "gridcolor": "white",
           "linecolor": "white",
           "ticks": "",
           "title": {
            "standoff": 15
           },
           "zerolinecolor": "white",
           "zerolinewidth": 2
          }
         }
        },
        "title": {
         "text": "Country Rankings by Foreign Tourist Arrivals (2014-2020)"
        },
        "xaxis": {
         "anchor": "y",
         "domain": [
          0,
          1
         ],
         "tickvals": [
          2014,
          2015,
          2016,
          2017,
          2018,
          2019,
          2020
         ],
         "title": {
          "text": "Year"
         }
        },
        "yaxis": {
         "anchor": "x",
         "autorange": "reversed",
         "domain": [
          0,
          1
         ],
         "ticktext": [
          "#1",
          "#2",
          "#3",
          "#4",
          "#5",
          "#6",
          "#7",
          "#8",
          "#9",
          "#10"
         ],
         "tickvals": [
          1,
          2,
          3,
          4,
          5,
          6,
          7,
          8,
          9,
          10
         ],
         "title": {
          "text": "Rank"
         }
        }
       }
      }
     },
     "metadata": {},
     "output_type": "display_data"
    }
   ],
   "source": [
    "# 3. Interactive country ranking visualization\n",
    "# Create a new dataframe for the ranking data\n",
    "rank_data = []\n",
    "\n",
    "for year in sorted(df.index):\n",
    "    for i in range(1, 11):\n",
    "        country = df.loc[year, f'top{i}_country']\n",
    "        ftas = df.loc[year, f'top{i}_ftas']\n",
    "        \n",
    "        rank_data.append({\n",
    "            'year': year,\n",
    "            'rank': i,\n",
    "            'country': country,\n",
    "            'ftas': ftas\n",
    "        })\n",
    "\n",
    "rank_df = pd.DataFrame(rank_data)\n",
    "\n",
    "# Create a bubble chart where bubble size represents FTAs\n",
    "fig_bubble = px.scatter(\n",
    "    rank_df,\n",
    "    x='year',\n",
    "    y='rank',\n",
    "    size='ftas',\n",
    "    color='country',\n",
    "    hover_name='country',\n",
    "    text='country',\n",
    "    size_max=60,\n",
    "    color_discrete_map=country_colors,\n",
    "    title='Country Rankings by Foreign Tourist Arrivals (2014-2020)'\n",
    ")\n",
    "\n",
    "# Update layout\n",
    "fig_bubble.update_layout(\n",
    "    xaxis_title='Year',\n",
    "    yaxis_title='Rank',\n",
    "    yaxis=dict(\n",
    "        autorange='reversed',  # Invert y-axis so that rank 1 is at the top\n",
    "        tickvals=list(range(1, 11)),\n",
    "        ticktext=[f'#{i}' for i in range(1, 11)]\n",
    "    ),\n",
    "    xaxis=dict(\n",
    "        tickvals=sorted(df.index)\n",
    "    ),\n",
    "    hovermode='closest'\n",
    ")\n",
    "\n",
    "# Save the figure as an HTML file\n",
    "fig_bubble.show()"
   ]
  },
  {
   "cell_type": "code",
   "execution_count": 19,
   "metadata": {},
   "outputs": [
    {
     "data": {
      "application/vnd.plotly.v1+json": {
       "config": {
        "plotlyServerURL": "https://plot.ly"
       },
       "data": [
        {
         "coloraxis": "coloraxis",
         "geo": "geo",
         "hovertemplate": "<b>%{hovertext}</b><br><br>country=%{location}<br>Tourist Arrivals=%{z}<extra></extra>",
         "hovertext": [
          "Bangladesh",
          "United States of America",
          "United Kingdom",
          "Canada",
          "Russian Fed.",
          "Australia",
          "France",
          "Germany",
          "Malaysia",
          "Sri Lanka"
         ],
         "locationmode": "country names",
         "locations": [
          "Bangladesh",
          "United States of America",
          "United Kingdom",
          "Canada",
          "Russian Fed.",
          "Australia",
          "France",
          "Germany",
          "Malaysia",
          "Sri Lanka"
         ],
         "name": "",
         "type": "choropleth",
         "z": [
          549273,
          394092,
          291874,
          122868,
          102166,
          86758,
          74243,
          72558,
          69897,
          68646
         ]
        }
       ],
       "layout": {
        "coloraxis": {
         "colorbar": {
          "title": {
           "text": "Tourist Arrivals"
          }
         },
         "colorscale": [
          [
           0,
           "#440154"
          ],
          [
           0.1111111111111111,
           "#482878"
          ],
          [
           0.2222222222222222,
           "#3e4989"
          ],
          [
           0.3333333333333333,
           "#31688e"
          ],
          [
           0.4444444444444444,
           "#26828e"
          ],
          [
           0.5555555555555556,
           "#1f9e89"
          ],
          [
           0.6666666666666666,
           "#35b779"
          ],
          [
           0.7777777777777778,
           "#6ece58"
          ],
          [
           0.8888888888888888,
           "#b5de2b"
          ],
          [
           1,
           "#fde725"
          ]
         ]
        },
        "geo": {
         "center": {},
         "domain": {
          "x": [
           0,
           1
          ],
          "y": [
           0,
           1
          ]
         },
         "projection": {
          "type": "natural earth"
         },
         "showcoastlines": true,
         "showframe": false
        },
        "legend": {
         "tracegroupgap": 0
        },
        "template": {
         "data": {
          "bar": [
           {
            "error_x": {
             "color": "#2a3f5f"
            },
            "error_y": {
             "color": "#2a3f5f"
            },
            "marker": {
             "line": {
              "color": "#E5ECF6",
              "width": 0.5
             },
             "pattern": {
              "fillmode": "overlay",
              "size": 10,
              "solidity": 0.2
             }
            },
            "type": "bar"
           }
          ],
          "barpolar": [
           {
            "marker": {
             "line": {
              "color": "#E5ECF6",
              "width": 0.5
             },
             "pattern": {
              "fillmode": "overlay",
              "size": 10,
              "solidity": 0.2
             }
            },
            "type": "barpolar"
           }
          ],
          "carpet": [
           {
            "aaxis": {
             "endlinecolor": "#2a3f5f",
             "gridcolor": "white",
             "linecolor": "white",
             "minorgridcolor": "white",
             "startlinecolor": "#2a3f5f"
            },
            "baxis": {
             "endlinecolor": "#2a3f5f",
             "gridcolor": "white",
             "linecolor": "white",
             "minorgridcolor": "white",
             "startlinecolor": "#2a3f5f"
            },
            "type": "carpet"
           }
          ],
          "choropleth": [
           {
            "colorbar": {
             "outlinewidth": 0,
             "ticks": ""
            },
            "type": "choropleth"
           }
          ],
          "contour": [
           {
            "colorbar": {
             "outlinewidth": 0,
             "ticks": ""
            },
            "colorscale": [
             [
              0,
              "#0d0887"
             ],
             [
              0.1111111111111111,
              "#46039f"
             ],
             [
              0.2222222222222222,
              "#7201a8"
             ],
             [
              0.3333333333333333,
              "#9c179e"
             ],
             [
              0.4444444444444444,
              "#bd3786"
             ],
             [
              0.5555555555555556,
              "#d8576b"
             ],
             [
              0.6666666666666666,
              "#ed7953"
             ],
             [
              0.7777777777777778,
              "#fb9f3a"
             ],
             [
              0.8888888888888888,
              "#fdca26"
             ],
             [
              1,
              "#f0f921"
             ]
            ],
            "type": "contour"
           }
          ],
          "contourcarpet": [
           {
            "colorbar": {
             "outlinewidth": 0,
             "ticks": ""
            },
            "type": "contourcarpet"
           }
          ],
          "heatmap": [
           {
            "colorbar": {
             "outlinewidth": 0,
             "ticks": ""
            },
            "colorscale": [
             [
              0,
              "#0d0887"
             ],
             [
              0.1111111111111111,
              "#46039f"
             ],
             [
              0.2222222222222222,
              "#7201a8"
             ],
             [
              0.3333333333333333,
              "#9c179e"
             ],
             [
              0.4444444444444444,
              "#bd3786"
             ],
             [
              0.5555555555555556,
              "#d8576b"
             ],
             [
              0.6666666666666666,
              "#ed7953"
             ],
             [
              0.7777777777777778,
              "#fb9f3a"
             ],
             [
              0.8888888888888888,
              "#fdca26"
             ],
             [
              1,
              "#f0f921"
             ]
            ],
            "type": "heatmap"
           }
          ],
          "heatmapgl": [
           {
            "colorbar": {
             "outlinewidth": 0,
             "ticks": ""
            },
            "colorscale": [
             [
              0,
              "#0d0887"
             ],
             [
              0.1111111111111111,
              "#46039f"
             ],
             [
              0.2222222222222222,
              "#7201a8"
             ],
             [
              0.3333333333333333,
              "#9c179e"
             ],
             [
              0.4444444444444444,
              "#bd3786"
             ],
             [
              0.5555555555555556,
              "#d8576b"
             ],
             [
              0.6666666666666666,
              "#ed7953"
             ],
             [
              0.7777777777777778,
              "#fb9f3a"
             ],
             [
              0.8888888888888888,
              "#fdca26"
             ],
             [
              1,
              "#f0f921"
             ]
            ],
            "type": "heatmapgl"
           }
          ],
          "histogram": [
           {
            "marker": {
             "pattern": {
              "fillmode": "overlay",
              "size": 10,
              "solidity": 0.2
             }
            },
            "type": "histogram"
           }
          ],
          "histogram2d": [
           {
            "colorbar": {
             "outlinewidth": 0,
             "ticks": ""
            },
            "colorscale": [
             [
              0,
              "#0d0887"
             ],
             [
              0.1111111111111111,
              "#46039f"
             ],
             [
              0.2222222222222222,
              "#7201a8"
             ],
             [
              0.3333333333333333,
              "#9c179e"
             ],
             [
              0.4444444444444444,
              "#bd3786"
             ],
             [
              0.5555555555555556,
              "#d8576b"
             ],
             [
              0.6666666666666666,
              "#ed7953"
             ],
             [
              0.7777777777777778,
              "#fb9f3a"
             ],
             [
              0.8888888888888888,
              "#fdca26"
             ],
             [
              1,
              "#f0f921"
             ]
            ],
            "type": "histogram2d"
           }
          ],
          "histogram2dcontour": [
           {
            "colorbar": {
             "outlinewidth": 0,
             "ticks": ""
            },
            "colorscale": [
             [
              0,
              "#0d0887"
             ],
             [
              0.1111111111111111,
              "#46039f"
             ],
             [
              0.2222222222222222,
              "#7201a8"
             ],
             [
              0.3333333333333333,
              "#9c179e"
             ],
             [
              0.4444444444444444,
              "#bd3786"
             ],
             [
              0.5555555555555556,
              "#d8576b"
             ],
             [
              0.6666666666666666,
              "#ed7953"
             ],
             [
              0.7777777777777778,
              "#fb9f3a"
             ],
             [
              0.8888888888888888,
              "#fdca26"
             ],
             [
              1,
              "#f0f921"
             ]
            ],
            "type": "histogram2dcontour"
           }
          ],
          "mesh3d": [
           {
            "colorbar": {
             "outlinewidth": 0,
             "ticks": ""
            },
            "type": "mesh3d"
           }
          ],
          "parcoords": [
           {
            "line": {
             "colorbar": {
              "outlinewidth": 0,
              "ticks": ""
             }
            },
            "type": "parcoords"
           }
          ],
          "pie": [
           {
            "automargin": true,
            "type": "pie"
           }
          ],
          "scatter": [
           {
            "fillpattern": {
             "fillmode": "overlay",
             "size": 10,
             "solidity": 0.2
            },
            "type": "scatter"
           }
          ],
          "scatter3d": [
           {
            "line": {
             "colorbar": {
              "outlinewidth": 0,
              "ticks": ""
             }
            },
            "marker": {
             "colorbar": {
              "outlinewidth": 0,
              "ticks": ""
             }
            },
            "type": "scatter3d"
           }
          ],
          "scattercarpet": [
           {
            "marker": {
             "colorbar": {
              "outlinewidth": 0,
              "ticks": ""
             }
            },
            "type": "scattercarpet"
           }
          ],
          "scattergeo": [
           {
            "marker": {
             "colorbar": {
              "outlinewidth": 0,
              "ticks": ""
             }
            },
            "type": "scattergeo"
           }
          ],
          "scattergl": [
           {
            "marker": {
             "colorbar": {
              "outlinewidth": 0,
              "ticks": ""
             }
            },
            "type": "scattergl"
           }
          ],
          "scattermapbox": [
           {
            "marker": {
             "colorbar": {
              "outlinewidth": 0,
              "ticks": ""
             }
            },
            "type": "scattermapbox"
           }
          ],
          "scatterpolar": [
           {
            "marker": {
             "colorbar": {
              "outlinewidth": 0,
              "ticks": ""
             }
            },
            "type": "scatterpolar"
           }
          ],
          "scatterpolargl": [
           {
            "marker": {
             "colorbar": {
              "outlinewidth": 0,
              "ticks": ""
             }
            },
            "type": "scatterpolargl"
           }
          ],
          "scatterternary": [
           {
            "marker": {
             "colorbar": {
              "outlinewidth": 0,
              "ticks": ""
             }
            },
            "type": "scatterternary"
           }
          ],
          "surface": [
           {
            "colorbar": {
             "outlinewidth": 0,
             "ticks": ""
            },
            "colorscale": [
             [
              0,
              "#0d0887"
             ],
             [
              0.1111111111111111,
              "#46039f"
             ],
             [
              0.2222222222222222,
              "#7201a8"
             ],
             [
              0.3333333333333333,
              "#9c179e"
             ],
             [
              0.4444444444444444,
              "#bd3786"
             ],
             [
              0.5555555555555556,
              "#d8576b"
             ],
             [
              0.6666666666666666,
              "#ed7953"
             ],
             [
              0.7777777777777778,
              "#fb9f3a"
             ],
             [
              0.8888888888888888,
              "#fdca26"
             ],
             [
              1,
              "#f0f921"
             ]
            ],
            "type": "surface"
           }
          ],
          "table": [
           {
            "cells": {
             "fill": {
              "color": "#EBF0F8"
             },
             "line": {
              "color": "white"
             }
            },
            "header": {
             "fill": {
              "color": "#C8D4E3"
             },
             "line": {
              "color": "white"
             }
            },
            "type": "table"
           }
          ]
         },
         "layout": {
          "annotationdefaults": {
           "arrowcolor": "#2a3f5f",
           "arrowhead": 0,
           "arrowwidth": 1
          },
          "autotypenumbers": "strict",
          "coloraxis": {
           "colorbar": {
            "outlinewidth": 0,
            "ticks": ""
           }
          },
          "colorscale": {
           "diverging": [
            [
             0,
             "#8e0152"
            ],
            [
             0.1,
             "#c51b7d"
            ],
            [
             0.2,
             "#de77ae"
            ],
            [
             0.3,
             "#f1b6da"
            ],
            [
             0.4,
             "#fde0ef"
            ],
            [
             0.5,
             "#f7f7f7"
            ],
            [
             0.6,
             "#e6f5d0"
            ],
            [
             0.7,
             "#b8e186"
            ],
            [
             0.8,
             "#7fbc41"
            ],
            [
             0.9,
             "#4d9221"
            ],
            [
             1,
             "#276419"
            ]
           ],
           "sequential": [
            [
             0,
             "#0d0887"
            ],
            [
             0.1111111111111111,
             "#46039f"
            ],
            [
             0.2222222222222222,
             "#7201a8"
            ],
            [
             0.3333333333333333,
             "#9c179e"
            ],
            [
             0.4444444444444444,
             "#bd3786"
            ],
            [
             0.5555555555555556,
             "#d8576b"
            ],
            [
             0.6666666666666666,
             "#ed7953"
            ],
            [
             0.7777777777777778,
             "#fb9f3a"
            ],
            [
             0.8888888888888888,
             "#fdca26"
            ],
            [
             1,
             "#f0f921"
            ]
           ],
           "sequentialminus": [
            [
             0,
             "#0d0887"
            ],
            [
             0.1111111111111111,
             "#46039f"
            ],
            [
             0.2222222222222222,
             "#7201a8"
            ],
            [
             0.3333333333333333,
             "#9c179e"
            ],
            [
             0.4444444444444444,
             "#bd3786"
            ],
            [
             0.5555555555555556,
             "#d8576b"
            ],
            [
             0.6666666666666666,
             "#ed7953"
            ],
            [
             0.7777777777777778,
             "#fb9f3a"
            ],
            [
             0.8888888888888888,
             "#fdca26"
            ],
            [
             1,
             "#f0f921"
            ]
           ]
          },
          "colorway": [
           "#636efa",
           "#EF553B",
           "#00cc96",
           "#ab63fa",
           "#FFA15A",
           "#19d3f3",
           "#FF6692",
           "#B6E880",
           "#FF97FF",
           "#FECB52"
          ],
          "font": {
           "color": "#2a3f5f"
          },
          "geo": {
           "bgcolor": "white",
           "lakecolor": "white",
           "landcolor": "#E5ECF6",
           "showlakes": true,
           "showland": true,
           "subunitcolor": "white"
          },
          "hoverlabel": {
           "align": "left"
          },
          "hovermode": "closest",
          "mapbox": {
           "style": "light"
          },
          "paper_bgcolor": "white",
          "plot_bgcolor": "#E5ECF6",
          "polar": {
           "angularaxis": {
            "gridcolor": "white",
            "linecolor": "white",
            "ticks": ""
           },
           "bgcolor": "#E5ECF6",
           "radialaxis": {
            "gridcolor": "white",
            "linecolor": "white",
            "ticks": ""
           }
          },
          "scene": {
           "xaxis": {
            "backgroundcolor": "#E5ECF6",
            "gridcolor": "white",
            "gridwidth": 2,
            "linecolor": "white",
            "showbackground": true,
            "ticks": "",
            "zerolinecolor": "white"
           },
           "yaxis": {
            "backgroundcolor": "#E5ECF6",
            "gridcolor": "white",
            "gridwidth": 2,
            "linecolor": "white",
            "showbackground": true,
            "ticks": "",
            "zerolinecolor": "white"
           },
           "zaxis": {
            "backgroundcolor": "#E5ECF6",
            "gridcolor": "white",
            "gridwidth": 2,
            "linecolor": "white",
            "showbackground": true,
            "ticks": "",
            "zerolinecolor": "white"
           }
          },
          "shapedefaults": {
           "line": {
            "color": "#2a3f5f"
           }
          },
          "ternary": {
           "aaxis": {
            "gridcolor": "white",
            "linecolor": "white",
            "ticks": ""
           },
           "baxis": {
            "gridcolor": "white",
            "linecolor": "white",
            "ticks": ""
           },
           "bgcolor": "#E5ECF6",
           "caxis": {
            "gridcolor": "white",
            "linecolor": "white",
            "ticks": ""
           }
          },
          "title": {
           "x": 0.05
          },
          "xaxis": {
           "automargin": true,
           "gridcolor": "white",
           "linecolor": "white",
           "ticks": "",
           "title": {
            "standoff": 15
           },
           "zerolinecolor": "white",
           "zerolinewidth": 2
          },
          "yaxis": {
           "automargin": true,
           "gridcolor": "white",
           "linecolor": "white",
           "ticks": "",
           "title": {
            "standoff": 15
           },
           "zerolinecolor": "white",
           "zerolinewidth": 2
          }
         }
        },
        "title": {
         "text": "Top 10 Countries for Foreign Tourist Arrivals to India (2020)"
        }
       }
      }
     },
     "metadata": {},
     "output_type": "display_data"
    }
   ],
   "source": [
    "# 4. Interactive Choropleth Map showing tourist arrivals by country\n",
    "# Get the latest year data\n",
    "latest_year = max(df.index)\n",
    "\n",
    "# Create a dataframe with country and tourist count for the latest year\n",
    "map_data = []\n",
    "\n",
    "for i in range(1, 11):\n",
    "    country = df.loc[latest_year, f'top{i}_country']\n",
    "    ftas = df.loc[latest_year, f'top{i}_ftas']\n",
    "    \n",
    "    # Rename some countries to match Plotly's naming convention\n",
    "    if country == \"United States\":\n",
    "        country = \"United States of America\"\n",
    "    elif country == \"Russia\":\n",
    "        country = \"Russian Federation\"\n",
    "    elif country == \"Korea\":\n",
    "        country = \"South Korea\"\n",
    "    \n",
    "    map_data.append({\n",
    "        'country': country,\n",
    "        'ftas': ftas,\n",
    "        'rank': i\n",
    "    })\n",
    "\n",
    "map_df = pd.DataFrame(map_data)\n",
    "\n",
    "# Create a choropleth map\n",
    "fig_map = px.choropleth(\n",
    "    map_df,\n",
    "    locations='country',\n",
    "    locationmode='country names',\n",
    "    color='ftas',\n",
    "    hover_name='country',\n",
    "    color_continuous_scale='Viridis',\n",
    "    title=f'Top 10 Countries for Foreign Tourist Arrivals to India ({latest_year})',\n",
    "    labels={'ftas': 'Tourist Arrivals'}\n",
    ")\n",
    "\n",
    "# Update layout\n",
    "fig_map.update_layout(\n",
    "    geo=dict(\n",
    "        showframe=False,\n",
    "        showcoastlines=True,\n",
    "        projection_type='natural earth'\n",
    "    )\n",
    ")\n",
    "\n",
    "# Save the figure as an HTML file\n",
    "fig_map.show()"
   ]
  },
  {
   "cell_type": "code",
   "execution_count": null,
   "metadata": {},
   "outputs": [],
   "source": []
  }
 ],
 "metadata": {
  "kernelspec": {
   "display_name": "Python 3",
   "language": "python",
   "name": "python3"
  },
  "language_info": {
   "codemirror_mode": {
    "name": "ipython",
    "version": 3
   },
   "file_extension": ".py",
   "mimetype": "text/x-python",
   "name": "python",
   "nbconvert_exporter": "python",
   "pygments_lexer": "ipython3",
   "version": "3.12.9"
  }
 },
 "nbformat": 4,
 "nbformat_minor": 2
}
