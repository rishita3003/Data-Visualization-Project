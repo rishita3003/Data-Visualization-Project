{
 "cells": [
  {
   "cell_type": "code",
   "execution_count": 2,
   "metadata": {},
   "outputs": [],
   "source": [
    "import pandas as pd\n",
    "import numpy as np\n",
    "import json"
   ]
  },
  {
   "cell_type": "code",
   "execution_count": 9,
   "metadata": {},
   "outputs": [
    {
     "data": {
      "text/html": [
       "<div>\n",
       "<style scoped>\n",
       "    .dataframe tbody tr th:only-of-type {\n",
       "        vertical-align: middle;\n",
       "    }\n",
       "\n",
       "    .dataframe tbody tr th {\n",
       "        vertical-align: top;\n",
       "    }\n",
       "\n",
       "    .dataframe thead th {\n",
       "        text-align: right;\n",
       "    }\n",
       "</style>\n",
       "<table border=\"1\" class=\"dataframe\">\n",
       "  <thead>\n",
       "    <tr style=\"text-align: right;\">\n",
       "      <th></th>\n",
       "      <th>Location</th>\n",
       "      <th>Country</th>\n",
       "      <th>Category</th>\n",
       "      <th>Visitors</th>\n",
       "      <th>Rating</th>\n",
       "      <th>Revenue</th>\n",
       "      <th>Accommodation_Available</th>\n",
       "    </tr>\n",
       "  </thead>\n",
       "  <tbody>\n",
       "    <tr>\n",
       "      <th>0</th>\n",
       "      <td>kuBZRkVsAR</td>\n",
       "      <td>India</td>\n",
       "      <td>Nature</td>\n",
       "      <td>948853</td>\n",
       "      <td>1.32</td>\n",
       "      <td>84388.38</td>\n",
       "      <td>Yes</td>\n",
       "    </tr>\n",
       "    <tr>\n",
       "      <th>1</th>\n",
       "      <td>aHKUXhjzTo</td>\n",
       "      <td>USA</td>\n",
       "      <td>Historical</td>\n",
       "      <td>813627</td>\n",
       "      <td>2.01</td>\n",
       "      <td>802625.60</td>\n",
       "      <td>No</td>\n",
       "    </tr>\n",
       "    <tr>\n",
       "      <th>2</th>\n",
       "      <td>dlrdYtJFTA</td>\n",
       "      <td>Brazil</td>\n",
       "      <td>Nature</td>\n",
       "      <td>508673</td>\n",
       "      <td>1.42</td>\n",
       "      <td>338777.11</td>\n",
       "      <td>Yes</td>\n",
       "    </tr>\n",
       "    <tr>\n",
       "      <th>3</th>\n",
       "      <td>DxmlzdGkHK</td>\n",
       "      <td>Brazil</td>\n",
       "      <td>Historical</td>\n",
       "      <td>623329</td>\n",
       "      <td>1.09</td>\n",
       "      <td>295183.60</td>\n",
       "      <td>Yes</td>\n",
       "    </tr>\n",
       "    <tr>\n",
       "      <th>4</th>\n",
       "      <td>WJCCQlepnz</td>\n",
       "      <td>France</td>\n",
       "      <td>Cultural</td>\n",
       "      <td>124867</td>\n",
       "      <td>1.43</td>\n",
       "      <td>547893.24</td>\n",
       "      <td>No</td>\n",
       "    </tr>\n",
       "    <tr>\n",
       "      <th>...</th>\n",
       "      <td>...</td>\n",
       "      <td>...</td>\n",
       "      <td>...</td>\n",
       "      <td>...</td>\n",
       "      <td>...</td>\n",
       "      <td>...</td>\n",
       "      <td>...</td>\n",
       "    </tr>\n",
       "    <tr>\n",
       "      <th>5984</th>\n",
       "      <td>xAzwnVKAqz</td>\n",
       "      <td>USA</td>\n",
       "      <td>Urban</td>\n",
       "      <td>828137</td>\n",
       "      <td>1.97</td>\n",
       "      <td>132848.78</td>\n",
       "      <td>No</td>\n",
       "    </tr>\n",
       "    <tr>\n",
       "      <th>5985</th>\n",
       "      <td>IfKotyaJFC</td>\n",
       "      <td>France</td>\n",
       "      <td>Nature</td>\n",
       "      <td>276317</td>\n",
       "      <td>3.53</td>\n",
       "      <td>325183.96</td>\n",
       "      <td>Yes</td>\n",
       "    </tr>\n",
       "    <tr>\n",
       "      <th>5986</th>\n",
       "      <td>bPyubCWGgA</td>\n",
       "      <td>Egypt</td>\n",
       "      <td>Beach</td>\n",
       "      <td>809198</td>\n",
       "      <td>3.37</td>\n",
       "      <td>927336.50</td>\n",
       "      <td>No</td>\n",
       "    </tr>\n",
       "    <tr>\n",
       "      <th>5987</th>\n",
       "      <td>kkWIucpBnu</td>\n",
       "      <td>Egypt</td>\n",
       "      <td>Cultural</td>\n",
       "      <td>808303</td>\n",
       "      <td>2.52</td>\n",
       "      <td>115791.43</td>\n",
       "      <td>Yes</td>\n",
       "    </tr>\n",
       "    <tr>\n",
       "      <th>5988</th>\n",
       "      <td>gHXUrdticm</td>\n",
       "      <td>France</td>\n",
       "      <td>Cultural</td>\n",
       "      <td>40939</td>\n",
       "      <td>4.65</td>\n",
       "      <td>957026.85</td>\n",
       "      <td>Yes</td>\n",
       "    </tr>\n",
       "  </tbody>\n",
       "</table>\n",
       "<p>5989 rows × 7 columns</p>\n",
       "</div>"
      ],
      "text/plain": [
       "        Location Country    Category  Visitors  Rating    Revenue  \\\n",
       "0     kuBZRkVsAR   India      Nature    948853    1.32   84388.38   \n",
       "1     aHKUXhjzTo     USA  Historical    813627    2.01  802625.60   \n",
       "2     dlrdYtJFTA  Brazil      Nature    508673    1.42  338777.11   \n",
       "3     DxmlzdGkHK  Brazil  Historical    623329    1.09  295183.60   \n",
       "4     WJCCQlepnz  France    Cultural    124867    1.43  547893.24   \n",
       "...          ...     ...         ...       ...     ...        ...   \n",
       "5984  xAzwnVKAqz     USA       Urban    828137    1.97  132848.78   \n",
       "5985  IfKotyaJFC  France      Nature    276317    3.53  325183.96   \n",
       "5986  bPyubCWGgA   Egypt       Beach    809198    3.37  927336.50   \n",
       "5987  kkWIucpBnu   Egypt    Cultural    808303    2.52  115791.43   \n",
       "5988  gHXUrdticm  France    Cultural     40939    4.65  957026.85   \n",
       "\n",
       "     Accommodation_Available  \n",
       "0                        Yes  \n",
       "1                         No  \n",
       "2                        Yes  \n",
       "3                        Yes  \n",
       "4                         No  \n",
       "...                      ...  \n",
       "5984                      No  \n",
       "5985                     Yes  \n",
       "5986                      No  \n",
       "5987                     Yes  \n",
       "5988                     Yes  \n",
       "\n",
       "[5989 rows x 7 columns]"
      ]
     },
     "execution_count": 9,
     "metadata": {},
     "output_type": "execute_result"
    }
   ],
   "source": [
    "# Load the data\n",
    "file_path = \"tourism_dataset.csv\"\n",
    "df = pd.read_csv(file_path)\n",
    "df"
   ]
  },
  {
   "cell_type": "markdown",
   "metadata": {},
   "source": [
    "#### Even though the countries are same, the location ID shows that they are different locations in the country"
   ]
  },
  {
   "cell_type": "code",
   "execution_count": 10,
   "metadata": {},
   "outputs": [
    {
     "name": "stdout",
     "output_type": "stream",
     "text": [
      "Summary Statistics:\n",
      "Total Locations: 5989\n",
      "Total Visitors: 3,000,585,360\n",
      "Total Revenue: $2,991,381,930.48\n",
      "Average Rating: 3.01\n"
     ]
    }
   ],
   "source": [
    "# Basic summary statistics\n",
    "summary_stats = {\n",
    "    \"total_locations\": len(df),\n",
    "    \"total_visitors\": int(df[\"Visitors\"].sum()),\n",
    "    \"total_revenue\": float(df[\"Revenue\"].sum()),\n",
    "    \"average_rating\": float(df[\"Rating\"].mean())\n",
    "}\n",
    "\n",
    "print(\"Summary Statistics:\")\n",
    "print(f\"Total Locations: {summary_stats['total_locations']}\")\n",
    "print(f\"Total Visitors: {summary_stats['total_visitors']:,}\")\n",
    "print(f\"Total Revenue: ${summary_stats['total_revenue']:,.2f}\")\n",
    "print(f\"Average Rating: {summary_stats['average_rating']:.2f}\")\n"
   ]
  },
  {
   "cell_type": "code",
   "execution_count": 11,
   "metadata": {},
   "outputs": [
    {
     "name": "stdout",
     "output_type": "stream",
     "text": [
      "\n",
      "Country Analysis:\n",
      "     Country   Visitors       Revenue    Rating\n",
      "0  Australia  416038005  4.126633e+08  3.019602\n",
      "1     Brazil  414293518  4.267832e+08  3.074167\n",
      "2      China  404448372  3.984324e+08  2.958648\n",
      "3      Egypt  458573652  4.605948e+08  3.024298\n",
      "4     France  424944621  4.105266e+08  3.030268\n",
      "5      India  451083005  4.546763e+08  2.973158\n",
      "6        USA  431204187  4.277053e+08  2.984304\n"
     ]
    }
   ],
   "source": [
    "# Analysis by Country\n",
    "country_data = df.groupby(\"Country\").agg({\n",
    "    \"Visitors\": \"sum\",\n",
    "    \"Revenue\": \"sum\",\n",
    "    \"Rating\": \"mean\"\n",
    "}).reset_index()\n",
    "\n",
    "print(\"\\nCountry Analysis:\")\n",
    "print(country_data)"
   ]
  },
  {
   "cell_type": "code",
   "execution_count": 12,
   "metadata": {},
   "outputs": [
    {
     "name": "stdout",
     "output_type": "stream",
     "text": [
      "\n",
      "Category Analysis:\n",
      "     Category   Visitors       Revenue    Rating\n",
      "0   Adventure  528962493  5.021662e+08  3.008804\n",
      "1       Beach  495111800  4.972478e+08  3.072285\n",
      "2    Cultural  495834336  5.181320e+08  2.997074\n",
      "3  Historical  495958186  4.846126e+08  3.003139\n",
      "4      Nature  469346177  4.772601e+08  2.978117\n",
      "5       Urban  515372368  5.119633e+08  2.995457\n"
     ]
    }
   ],
   "source": [
    "# Analysis by Category\n",
    "category_data = df.groupby(\"Category\").agg({\n",
    "    \"Visitors\": \"sum\",\n",
    "    \"Revenue\": \"sum\",\n",
    "    \"Rating\": \"mean\"\n",
    "}).reset_index()\n",
    "\n",
    "print(\"\\nCategory Analysis:\")\n",
    "print(category_data)"
   ]
  },
  {
   "cell_type": "code",
   "execution_count": 13,
   "metadata": {},
   "outputs": [
    {
     "name": "stdout",
     "output_type": "stream",
     "text": [
      "\n",
      "Accommodation Analysis:\n",
      "  Accommodation_Available    Visitors       Revenue\n",
      "0                      No  1514900791  1.490472e+09\n",
      "1                     Yes  1485684569  1.500910e+09\n"
     ]
    }
   ],
   "source": [
    "# Accommodation Analysis\n",
    "accommodation_data = df.groupby(\"Accommodation_Available\").agg({\n",
    "    \"Visitors\": \"sum\",\n",
    "    \"Revenue\": \"sum\"\n",
    "}).reset_index()\n",
    "\n",
    "print(\"\\nAccommodation Analysis:\")\n",
    "print(accommodation_data)"
   ]
  },
  {
   "cell_type": "code",
   "execution_count": 14,
   "metadata": {},
   "outputs": [
    {
     "name": "stdout",
     "output_type": "stream",
     "text": [
      "\n",
      "Revenue per Visitor by Country:\n",
      "     Country  Revenue_per_Visitor\n",
      "1     Brazil             1.030147\n",
      "5      India             1.007966\n",
      "3      Egypt             1.004407\n",
      "0  Australia             0.991889\n",
      "6        USA             0.991886\n",
      "2      China             0.985125\n",
      "4     France             0.966071\n"
     ]
    }
   ],
   "source": [
    "# Revenue per Visitor by Country\n",
    "country_data[\"Revenue_per_Visitor\"] = country_data[\"Revenue\"] / country_data[\"Visitors\"]\n",
    "print(\"\\nRevenue per Visitor by Country:\")\n",
    "print(country_data[[\"Country\", \"Revenue_per_Visitor\"]].sort_values(\"Revenue_per_Visitor\", ascending=False))"
   ]
  },
  {
   "cell_type": "code",
   "execution_count": 15,
   "metadata": {},
   "outputs": [
    {
     "name": "stdout",
     "output_type": "stream",
     "text": [
      "\n",
      "Rating Category Analysis:\n",
      "  Rating_Category    Visitors       Revenue  Location\n",
      "0             Low   735251709  7.375906e+08      1485\n",
      "1          Medium   781765746  7.599337e+08      1513\n",
      "2            High  1483567905  1.493858e+09      2991\n"
     ]
    },
    {
     "name": "stderr",
     "output_type": "stream",
     "text": [
      "C:\\Users\\Rishita\\AppData\\Local\\Temp\\ipykernel_16428\\3163638958.py:3: FutureWarning: The default of observed=False is deprecated and will be changed to True in a future version of pandas. Pass observed=False to retain current behavior or observed=True to adopt the future default and silence this warning.\n",
      "  rating_analysis = df.groupby(\"Rating_Category\").agg({\n"
     ]
    }
   ],
   "source": [
    "# High rated vs Low rated locations comparison\n",
    "df[\"Rating_Category\"] = pd.cut(df[\"Rating\"], bins=[0, 2, 3, 5], labels=[\"Low\", \"Medium\", \"High\"])\n",
    "rating_analysis = df.groupby(\"Rating_Category\").agg({\n",
    "    \"Visitors\": \"sum\",\n",
    "    \"Revenue\": \"sum\",\n",
    "    \"Location\": \"count\"\n",
    "}).reset_index()\n",
    "\n",
    "print(\"\\nRating Category Analysis:\")\n",
    "print(rating_analysis)"
   ]
  },
  {
   "cell_type": "code",
   "execution_count": 18,
   "metadata": {},
   "outputs": [
    {
     "name": "stdout",
     "output_type": "stream",
     "text": [
      "\n",
      "Top 5 Country-Category Combinations by Visitors:\n",
      "      Country    Category  Visitors      Revenue\n",
      "6      Brazil   Adventure  83200861  77333822.40\n",
      "18      Egypt   Adventure  82651445  82950318.40\n",
      "30      India   Adventure  82298383  78370335.87\n",
      "19      Egypt       Beach  81114198  77755196.13\n",
      "21      Egypt  Historical  80783975  78510790.60\n",
      "41        USA       Urban  80276628  81931474.27\n",
      "28     France      Nature  79251754  75674952.86\n",
      "23      Egypt       Urban  78968173  79616298.02\n",
      "35      India       Urban  77068876  79879774.13\n",
      "33      India  Historical  76491148  65788358.97\n",
      "36        USA   Adventure  76417600  69406465.01\n",
      "26     France    Cultural  75794317  74008400.22\n",
      "0   Australia   Adventure  75244920  73143074.22\n",
      "20      Egypt    Cultural  74325882  77438684.31\n",
      "31      India       Beach  74275757  83256415.38\n",
      "1   Australia       Beach  74188817  71734255.42\n",
      "11     Brazil       Urban  72856618  74506386.34\n",
      "29     France       Urban  72726465  69566833.74\n",
      "40        USA      Nature  72470611  70669239.05\n",
      "9      Brazil  Historical  72373269  73418486.47\n",
      "38        USA    Cultural  72205845  76058080.68\n",
      "32      India    Cultural  71427451  78545467.98\n",
      "34      India      Nature  69521390  68835947.02\n",
      "25     France       Beach  69365066  69845116.72\n",
      "16      China      Nature  69145197  68768453.44\n",
      "2   Australia    Cultural  69032021  66860675.16\n",
      "12      China   Adventure  68830716  62835395.80\n",
      "17      China       Urban  68053164  62456057.97\n",
      "39        USA  Historical  67608631  67623602.79\n",
      "27     France  Historical  67488451  63304545.83\n",
      "7      Brazil       Beach  67367768  63899164.12\n",
      "8      Brazil    Cultural  66946542  76042841.46\n",
      "4   Australia      Nature  66678786  67405458.04\n",
      "13      China       Beach  66575322  68741200.34\n",
      "14      China    Cultural  66102278  69177870.10\n",
      "15      China  Historical  65741695  66453400.60\n",
      "3   Australia  Historical  65471017  69513402.10\n",
      "5   Australia       Urban  65422444  64006467.32\n",
      "37        USA       Beach  62224872  62016423.75\n",
      "22      Egypt      Nature  60729979  64323505.07\n",
      "24     France   Adventure  60318568  58126792.90\n",
      "10     Brazil      Nature  51548460  61582499.48 (42, 4)\n"
     ]
    }
   ],
   "source": [
    "# Country and Category combinations\n",
    "country_category = df.groupby([\"Country\", \"Category\"]).agg({\n",
    "    \"Visitors\": \"sum\",\n",
    "    \"Revenue\": \"sum\"\n",
    "}).reset_index()\n",
    "\n",
    "print(\"\\nTop 5 Country-Category Combinations by Visitors:\")\n",
    "print(country_category.sort_values(\"Visitors\", ascending=False), country_category.sort_values(\"Visitors\", ascending=False).shape)"
   ]
  },
  {
   "cell_type": "code",
   "execution_count": 19,
   "metadata": {},
   "outputs": [
    {
     "name": "stdout",
     "output_type": "stream",
     "text": [
      "\n",
      "Correlation Analysis:\n",
      "          Visitors    Rating   Revenue\n",
      "Visitors  1.000000 -0.010337  0.008358\n",
      "Rating   -0.010337  1.000000  0.000574\n",
      "Revenue   0.008358  0.000574  1.000000\n"
     ]
    }
   ],
   "source": [
    "# Correlation analysis\n",
    "correlation = df[[\"Visitors\", \"Rating\", \"Revenue\"]].corr()\n",
    "print(\"\\nCorrelation Analysis:\")\n",
    "print(correlation)"
   ]
  },
  {
   "cell_type": "code",
   "execution_count": null,
   "metadata": {},
   "outputs": [],
   "source": [
    "# Export data for visualization\n",
    "export_data = {\n",
    "    \"summary\": summary_stats,\n",
    "    \"country_data\": country_data.to_dict(orient=\"records\"),\n",
    "    \"category_data\": category_data.to_dict(orient=\"records\"),\n",
    "    \"accommodation_data\": accommodation_data.to_dict(orient=\"records\"),\n",
    "    \"rating_analysis\": rating_analysis.to_dict(orient=\"records\"),\n",
    "    \"top_country_category\": country_category.sort_values(\"Visitors\", ascending=False).head(5).to_dict(orient=\"records\"),\n",
    "    \"correlation\": correlation.to_dict()\n",
    "}\n",
    "\n",
    "# Save to JSON file\n",
    "with open(\"tourism_analysis.json\", \"w\") as f:\n",
    "    json.dump(export_data, f, indent=2)\n",
    "\n",
    "print(\"\\nData analysis complete. Results saved to tourism_analysis.json\")"
   ]
  }
 ],
 "metadata": {
  "kernelspec": {
   "display_name": "myenv",
   "language": "python",
   "name": "python3"
  },
  "language_info": {
   "codemirror_mode": {
    "name": "ipython",
    "version": 3
   },
   "file_extension": ".py",
   "mimetype": "text/x-python",
   "name": "python",
   "nbconvert_exporter": "python",
   "pygments_lexer": "ipython3",
   "version": "3.12.6"
  }
 },
 "nbformat": 4,
 "nbformat_minor": 2
}
